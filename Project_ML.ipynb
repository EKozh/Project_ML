{
 "cells": [
  {
   "cell_type": "markdown",
   "metadata": {},
   "source": [
    "# Рекомендация тарифов"
   ]
  },
  {
   "cell_type": "markdown",
   "metadata": {},
   "source": [
    "Оператор мобильной связи «Мегалайн» выяснил: многие клиенты пользуются архивными тарифами. Они хотят построить систему, способную проанализировать поведение клиентов и предложить пользователям новый тариф: «Смарт» или «Ультра».\n",
    "\n",
    "В вашем распоряжении данные о поведении клиентов, которые уже перешли на эти тарифы (из проекта курса «Статистический анализ данных»). Нужно построить модель для задачи классификации, которая выберет подходящий тариф. Предобработка данных не понадобится — вы её уже сделали.\n",
    "\n",
    "Постройте модель с максимально большим значением accuracy. Чтобы сдать проект успешно, нужно довести долю правильных ответов по крайней мере до 0.75. Проверьте accuracy на тестовой выборке самостоятельно."
   ]
  },
  {
   "cell_type": "markdown",
   "metadata": {},
   "source": [
    "## Откройте и изучите файл"
   ]
  },
  {
   "cell_type": "code",
   "execution_count": 1,
   "metadata": {},
   "outputs": [],
   "source": [
    "import pandas as pd\n",
    "import matplotlib.pyplot as plt\n",
    "from sklearn.tree import DecisionTreeClassifier\n",
    "from sklearn.ensemble import RandomForestClassifier\n",
    "from sklearn.linear_model import LogisticRegression\n",
    "from sklearn.model_selection import train_test_split\n",
    "from sklearn.metrics import accuracy_score, precision_score, recall_score, f1_score, confusion_matrix\n",
    "from sklearn.dummy import DummyClassifier\n",
    "from sklearn import tree\n",
    "from sklearn.model_selection import GridSearchCV"
   ]
  },
  {
   "cell_type": "code",
   "execution_count": 2,
   "metadata": {},
   "outputs": [],
   "source": [
    "df = pd.read_csv('/datasets/users_behavior.csv')"
   ]
  },
  {
   "cell_type": "code",
   "execution_count": 3,
   "metadata": {},
   "outputs": [
    {
     "name": "stdout",
     "output_type": "stream",
     "text": [
      "<class 'pandas.core.frame.DataFrame'>\n",
      "RangeIndex: 3214 entries, 0 to 3213\n",
      "Data columns (total 5 columns):\n",
      " #   Column    Non-Null Count  Dtype  \n",
      "---  ------    --------------  -----  \n",
      " 0   calls     3214 non-null   float64\n",
      " 1   minutes   3214 non-null   float64\n",
      " 2   messages  3214 non-null   float64\n",
      " 3   mb_used   3214 non-null   float64\n",
      " 4   is_ultra  3214 non-null   int64  \n",
      "dtypes: float64(4), int64(1)\n",
      "memory usage: 125.7 KB\n"
     ]
    }
   ],
   "source": [
    "df.info()"
   ]
  },
  {
   "cell_type": "code",
   "execution_count": 4,
   "metadata": {},
   "outputs": [
    {
     "data": {
      "text/html": [
       "<div>\n",
       "<style scoped>\n",
       "    .dataframe tbody tr th:only-of-type {\n",
       "        vertical-align: middle;\n",
       "    }\n",
       "\n",
       "    .dataframe tbody tr th {\n",
       "        vertical-align: top;\n",
       "    }\n",
       "\n",
       "    .dataframe thead th {\n",
       "        text-align: right;\n",
       "    }\n",
       "</style>\n",
       "<table border=\"1\" class=\"dataframe\">\n",
       "  <thead>\n",
       "    <tr style=\"text-align: right;\">\n",
       "      <th></th>\n",
       "      <th>calls</th>\n",
       "      <th>minutes</th>\n",
       "      <th>messages</th>\n",
       "      <th>mb_used</th>\n",
       "      <th>is_ultra</th>\n",
       "    </tr>\n",
       "  </thead>\n",
       "  <tbody>\n",
       "    <tr>\n",
       "      <th>2001</th>\n",
       "      <td>46.0</td>\n",
       "      <td>335.67</td>\n",
       "      <td>26.0</td>\n",
       "      <td>8376.75</td>\n",
       "      <td>0</td>\n",
       "    </tr>\n",
       "    <tr>\n",
       "      <th>1259</th>\n",
       "      <td>81.0</td>\n",
       "      <td>606.20</td>\n",
       "      <td>36.0</td>\n",
       "      <td>20066.10</td>\n",
       "      <td>0</td>\n",
       "    </tr>\n",
       "    <tr>\n",
       "      <th>1081</th>\n",
       "      <td>57.0</td>\n",
       "      <td>445.41</td>\n",
       "      <td>1.0</td>\n",
       "      <td>8197.18</td>\n",
       "      <td>0</td>\n",
       "    </tr>\n",
       "    <tr>\n",
       "      <th>1683</th>\n",
       "      <td>11.0</td>\n",
       "      <td>81.29</td>\n",
       "      <td>1.0</td>\n",
       "      <td>4000.01</td>\n",
       "      <td>0</td>\n",
       "    </tr>\n",
       "    <tr>\n",
       "      <th>2281</th>\n",
       "      <td>34.0</td>\n",
       "      <td>258.97</td>\n",
       "      <td>107.0</td>\n",
       "      <td>10294.77</td>\n",
       "      <td>0</td>\n",
       "    </tr>\n",
       "    <tr>\n",
       "      <th>452</th>\n",
       "      <td>26.0</td>\n",
       "      <td>198.05</td>\n",
       "      <td>19.0</td>\n",
       "      <td>11336.44</td>\n",
       "      <td>0</td>\n",
       "    </tr>\n",
       "    <tr>\n",
       "      <th>2171</th>\n",
       "      <td>26.0</td>\n",
       "      <td>118.57</td>\n",
       "      <td>146.0</td>\n",
       "      <td>15109.08</td>\n",
       "      <td>1</td>\n",
       "    </tr>\n",
       "    <tr>\n",
       "      <th>2293</th>\n",
       "      <td>72.0</td>\n",
       "      <td>411.84</td>\n",
       "      <td>0.0</td>\n",
       "      <td>10435.47</td>\n",
       "      <td>0</td>\n",
       "    </tr>\n",
       "    <tr>\n",
       "      <th>786</th>\n",
       "      <td>83.0</td>\n",
       "      <td>705.90</td>\n",
       "      <td>84.0</td>\n",
       "      <td>16082.16</td>\n",
       "      <td>0</td>\n",
       "    </tr>\n",
       "    <tr>\n",
       "      <th>2011</th>\n",
       "      <td>83.0</td>\n",
       "      <td>670.68</td>\n",
       "      <td>54.0</td>\n",
       "      <td>19679.78</td>\n",
       "      <td>0</td>\n",
       "    </tr>\n",
       "  </tbody>\n",
       "</table>\n",
       "</div>"
      ],
      "text/plain": [
       "      calls  minutes  messages   mb_used  is_ultra\n",
       "2001   46.0   335.67      26.0   8376.75         0\n",
       "1259   81.0   606.20      36.0  20066.10         0\n",
       "1081   57.0   445.41       1.0   8197.18         0\n",
       "1683   11.0    81.29       1.0   4000.01         0\n",
       "2281   34.0   258.97     107.0  10294.77         0\n",
       "452    26.0   198.05      19.0  11336.44         0\n",
       "2171   26.0   118.57     146.0  15109.08         1\n",
       "2293   72.0   411.84       0.0  10435.47         0\n",
       "786    83.0   705.90      84.0  16082.16         0\n",
       "2011   83.0   670.68      54.0  19679.78         0"
      ]
     },
     "execution_count": 4,
     "metadata": {},
     "output_type": "execute_result"
    }
   ],
   "source": [
    "df.sample(10)"
   ]
  },
  {
   "cell_type": "markdown",
   "metadata": {},
   "source": [
    "Каждый объект в наборе данных — это информация о поведении одного пользователя за месяц. В датасете 3214 строк и 5 столбцов: \n",
    "- сalls — количество звонков,\n",
    "- minutes — суммарная длительность звонков в минутах,\n",
    "- messages — количество sms-сообщений,\n",
    "- mb_used — израсходованный интернет-трафик в Мб,\n",
    "- is_ultra — каким тарифом пользовался в течение месяца («Ультра» — 1, «Смарт» — 0).\n",
    "\n",
    "Предобработка данных уже совершена. Посмотрим как распределены данные."
   ]
  },
  {
   "cell_type": "markdown",
   "metadata": {},
   "source": [
    "Построим гистограммы для каждого параметра через цикл:"
   ]
  },
  {
   "cell_type": "code",
   "execution_count": 5,
   "metadata": {},
   "outputs": [
    {
     "data": {
      "image/png": "[encoded data removed]",
      "text/plain": [
       "<Figure size 720x1440 with 5 Axes>"
      ]
     },
     "metadata": {
      "needs_background": "light"
     },
     "output_type": "display_data"
    }
   ],
   "source": [
    "fig, subplots = plt.subplots(nrows=5, ncols=1, figsize=(10, 20))\n",
    "\n",
    "columns = df.columns\n",
    "i = -1\n",
    "for ax in fig.axes:\n",
    "    i += 1\n",
    "    ax.hist(df[columns[i]], bins=100)\n",
    "    \n",
    "    ax.set_title(columns[i], fontsize=18)\n",
    "    ax.set_xlabel(columns[i], fontsize=14)\n",
    "    \n",
    "plt.tight_layout(h_pad = 3)\n",
    "\n",
    "plt.show()"
   ]
  },
  {
   "cell_type": "markdown",
   "metadata": {},
   "source": [
    "Обратим внимание, что в столбцах \"calls\", \"minutes\", \"messages\" большое количество значений находится на 0. Если со столбцом \"messages\" это, скорее всего, связано с тем, что смс сейчас не распространены, на замену им пришли мессенджеры. Нулевые значения в столбцах \"количество звонков\" и \"суммарная длительность звонков\" это пропущенные звонки. Также обратим внимание на одиночные выбросы в \"calls\" - более 200 звонков, \"minutes\" - более 1500 минут и \"mb_used\" - более 45000 Мб. Все это может вилиять на нашу модель. Рассмотрим подробнее эти данные."
   ]
  },
  {
   "cell_type": "code",
   "execution_count": 6,
   "metadata": {},
   "outputs": [
    {
     "data": {
      "text/html": [
       "<div>\n",
       "<style scoped>\n",
       "    .dataframe tbody tr th:only-of-type {\n",
       "        vertical-align: middle;\n",
       "    }\n",
       "\n",
       "    .dataframe tbody tr th {\n",
       "        vertical-align: top;\n",
       "    }\n",
       "\n",
       "    .dataframe thead th {\n",
       "        text-align: right;\n",
       "    }\n",
       "</style>\n",
       "<table border=\"1\" class=\"dataframe\">\n",
       "  <thead>\n",
       "    <tr style=\"text-align: right;\">\n",
       "      <th></th>\n",
       "      <th>calls</th>\n",
       "      <th>minutes</th>\n",
       "      <th>messages</th>\n",
       "      <th>mb_used</th>\n",
       "      <th>is_ultra</th>\n",
       "    </tr>\n",
       "  </thead>\n",
       "  <tbody>\n",
       "    <tr>\n",
       "      <th>54</th>\n",
       "      <td>0.0</td>\n",
       "      <td>0.00</td>\n",
       "      <td>33.0</td>\n",
       "      <td>14010.33</td>\n",
       "      <td>1</td>\n",
       "    </tr>\n",
       "    <tr>\n",
       "      <th>247</th>\n",
       "      <td>0.0</td>\n",
       "      <td>0.00</td>\n",
       "      <td>35.0</td>\n",
       "      <td>16444.99</td>\n",
       "      <td>1</td>\n",
       "    </tr>\n",
       "    <tr>\n",
       "      <th>264</th>\n",
       "      <td>0.0</td>\n",
       "      <td>0.00</td>\n",
       "      <td>21.0</td>\n",
       "      <td>19559.55</td>\n",
       "      <td>0</td>\n",
       "    </tr>\n",
       "    <tr>\n",
       "      <th>351</th>\n",
       "      <td>0.0</td>\n",
       "      <td>0.00</td>\n",
       "      <td>8.0</td>\n",
       "      <td>35525.61</td>\n",
       "      <td>1</td>\n",
       "    </tr>\n",
       "    <tr>\n",
       "      <th>390</th>\n",
       "      <td>0.0</td>\n",
       "      <td>0.00</td>\n",
       "      <td>25.0</td>\n",
       "      <td>19088.67</td>\n",
       "      <td>1</td>\n",
       "    </tr>\n",
       "    <tr>\n",
       "      <th>484</th>\n",
       "      <td>0.0</td>\n",
       "      <td>0.00</td>\n",
       "      <td>191.0</td>\n",
       "      <td>32448.02</td>\n",
       "      <td>1</td>\n",
       "    </tr>\n",
       "    <tr>\n",
       "      <th>551</th>\n",
       "      <td>0.0</td>\n",
       "      <td>0.00</td>\n",
       "      <td>24.0</td>\n",
       "      <td>18701.54</td>\n",
       "      <td>1</td>\n",
       "    </tr>\n",
       "    <tr>\n",
       "      <th>647</th>\n",
       "      <td>0.0</td>\n",
       "      <td>0.00</td>\n",
       "      <td>30.0</td>\n",
       "      <td>10236.20</td>\n",
       "      <td>1</td>\n",
       "    </tr>\n",
       "    <tr>\n",
       "      <th>769</th>\n",
       "      <td>0.0</td>\n",
       "      <td>0.00</td>\n",
       "      <td>32.0</td>\n",
       "      <td>17206.44</td>\n",
       "      <td>0</td>\n",
       "    </tr>\n",
       "    <tr>\n",
       "      <th>884</th>\n",
       "      <td>0.0</td>\n",
       "      <td>0.00</td>\n",
       "      <td>180.0</td>\n",
       "      <td>32045.73</td>\n",
       "      <td>1</td>\n",
       "    </tr>\n",
       "    <tr>\n",
       "      <th>951</th>\n",
       "      <td>0.0</td>\n",
       "      <td>0.00</td>\n",
       "      <td>185.0</td>\n",
       "      <td>31032.94</td>\n",
       "      <td>1</td>\n",
       "    </tr>\n",
       "    <tr>\n",
       "      <th>1040</th>\n",
       "      <td>0.0</td>\n",
       "      <td>0.00</td>\n",
       "      <td>29.0</td>\n",
       "      <td>21289.28</td>\n",
       "      <td>1</td>\n",
       "    </tr>\n",
       "    <tr>\n",
       "      <th>1094</th>\n",
       "      <td>0.0</td>\n",
       "      <td>0.00</td>\n",
       "      <td>35.0</td>\n",
       "      <td>17322.59</td>\n",
       "      <td>0</td>\n",
       "    </tr>\n",
       "    <tr>\n",
       "      <th>1103</th>\n",
       "      <td>0.0</td>\n",
       "      <td>0.00</td>\n",
       "      <td>201.0</td>\n",
       "      <td>27825.95</td>\n",
       "      <td>1</td>\n",
       "    </tr>\n",
       "    <tr>\n",
       "      <th>1142</th>\n",
       "      <td>203.0</td>\n",
       "      <td>1566.45</td>\n",
       "      <td>20.0</td>\n",
       "      <td>3059.86</td>\n",
       "      <td>1</td>\n",
       "    </tr>\n",
       "    <tr>\n",
       "      <th>1238</th>\n",
       "      <td>0.0</td>\n",
       "      <td>0.00</td>\n",
       "      <td>30.0</td>\n",
       "      <td>20016.75</td>\n",
       "      <td>1</td>\n",
       "    </tr>\n",
       "    <tr>\n",
       "      <th>1248</th>\n",
       "      <td>0.0</td>\n",
       "      <td>0.00</td>\n",
       "      <td>20.0</td>\n",
       "      <td>18418.27</td>\n",
       "      <td>1</td>\n",
       "    </tr>\n",
       "    <tr>\n",
       "      <th>1351</th>\n",
       "      <td>0.0</td>\n",
       "      <td>0.00</td>\n",
       "      <td>9.0</td>\n",
       "      <td>2923.50</td>\n",
       "      <td>1</td>\n",
       "    </tr>\n",
       "    <tr>\n",
       "      <th>1448</th>\n",
       "      <td>0.0</td>\n",
       "      <td>0.00</td>\n",
       "      <td>7.0</td>\n",
       "      <td>39419.77</td>\n",
       "      <td>1</td>\n",
       "    </tr>\n",
       "    <tr>\n",
       "      <th>1533</th>\n",
       "      <td>0.0</td>\n",
       "      <td>0.00</td>\n",
       "      <td>188.0</td>\n",
       "      <td>33189.50</td>\n",
       "      <td>1</td>\n",
       "    </tr>\n",
       "    <tr>\n",
       "      <th>1598</th>\n",
       "      <td>0.0</td>\n",
       "      <td>0.00</td>\n",
       "      <td>28.0</td>\n",
       "      <td>16573.03</td>\n",
       "      <td>1</td>\n",
       "    </tr>\n",
       "    <tr>\n",
       "      <th>1649</th>\n",
       "      <td>0.0</td>\n",
       "      <td>0.00</td>\n",
       "      <td>211.0</td>\n",
       "      <td>27695.86</td>\n",
       "      <td>1</td>\n",
       "    </tr>\n",
       "    <tr>\n",
       "      <th>1669</th>\n",
       "      <td>0.0</td>\n",
       "      <td>0.00</td>\n",
       "      <td>19.0</td>\n",
       "      <td>17289.88</td>\n",
       "      <td>1</td>\n",
       "    </tr>\n",
       "    <tr>\n",
       "      <th>1743</th>\n",
       "      <td>0.0</td>\n",
       "      <td>0.00</td>\n",
       "      <td>20.0</td>\n",
       "      <td>13688.68</td>\n",
       "      <td>1</td>\n",
       "    </tr>\n",
       "    <tr>\n",
       "      <th>1755</th>\n",
       "      <td>0.0</td>\n",
       "      <td>0.00</td>\n",
       "      <td>48.0</td>\n",
       "      <td>12442.93</td>\n",
       "      <td>0</td>\n",
       "    </tr>\n",
       "    <tr>\n",
       "      <th>1841</th>\n",
       "      <td>0.0</td>\n",
       "      <td>0.00</td>\n",
       "      <td>30.0</td>\n",
       "      <td>10703.39</td>\n",
       "      <td>1</td>\n",
       "    </tr>\n",
       "    <tr>\n",
       "      <th>1876</th>\n",
       "      <td>0.0</td>\n",
       "      <td>0.00</td>\n",
       "      <td>173.0</td>\n",
       "      <td>27431.66</td>\n",
       "      <td>1</td>\n",
       "    </tr>\n",
       "    <tr>\n",
       "      <th>1880</th>\n",
       "      <td>0.0</td>\n",
       "      <td>0.00</td>\n",
       "      <td>44.0</td>\n",
       "      <td>15644.73</td>\n",
       "      <td>1</td>\n",
       "    </tr>\n",
       "    <tr>\n",
       "      <th>1921</th>\n",
       "      <td>0.0</td>\n",
       "      <td>0.00</td>\n",
       "      <td>14.0</td>\n",
       "      <td>21673.83</td>\n",
       "      <td>1</td>\n",
       "    </tr>\n",
       "    <tr>\n",
       "      <th>2155</th>\n",
       "      <td>0.0</td>\n",
       "      <td>0.00</td>\n",
       "      <td>24.0</td>\n",
       "      <td>21626.90</td>\n",
       "      <td>1</td>\n",
       "    </tr>\n",
       "    <tr>\n",
       "      <th>2207</th>\n",
       "      <td>0.0</td>\n",
       "      <td>0.00</td>\n",
       "      <td>32.0</td>\n",
       "      <td>16597.13</td>\n",
       "      <td>1</td>\n",
       "    </tr>\n",
       "    <tr>\n",
       "      <th>2256</th>\n",
       "      <td>0.0</td>\n",
       "      <td>0.00</td>\n",
       "      <td>42.0</td>\n",
       "      <td>13280.45</td>\n",
       "      <td>1</td>\n",
       "    </tr>\n",
       "    <tr>\n",
       "      <th>2291</th>\n",
       "      <td>0.0</td>\n",
       "      <td>0.00</td>\n",
       "      <td>28.0</td>\n",
       "      <td>11864.26</td>\n",
       "      <td>1</td>\n",
       "    </tr>\n",
       "    <tr>\n",
       "      <th>2589</th>\n",
       "      <td>244.0</td>\n",
       "      <td>1632.06</td>\n",
       "      <td>39.0</td>\n",
       "      <td>9756.91</td>\n",
       "      <td>1</td>\n",
       "    </tr>\n",
       "    <tr>\n",
       "      <th>2682</th>\n",
       "      <td>0.0</td>\n",
       "      <td>0.00</td>\n",
       "      <td>23.0</td>\n",
       "      <td>21934.04</td>\n",
       "      <td>1</td>\n",
       "    </tr>\n",
       "    <tr>\n",
       "      <th>2879</th>\n",
       "      <td>0.0</td>\n",
       "      <td>0.00</td>\n",
       "      <td>6.0</td>\n",
       "      <td>22428.00</td>\n",
       "      <td>1</td>\n",
       "    </tr>\n",
       "    <tr>\n",
       "      <th>2943</th>\n",
       "      <td>0.0</td>\n",
       "      <td>0.00</td>\n",
       "      <td>17.0</td>\n",
       "      <td>12905.41</td>\n",
       "      <td>1</td>\n",
       "    </tr>\n",
       "    <tr>\n",
       "      <th>2958</th>\n",
       "      <td>0.0</td>\n",
       "      <td>0.00</td>\n",
       "      <td>20.0</td>\n",
       "      <td>17491.66</td>\n",
       "      <td>0</td>\n",
       "    </tr>\n",
       "    <tr>\n",
       "      <th>2962</th>\n",
       "      <td>0.0</td>\n",
       "      <td>0.00</td>\n",
       "      <td>17.0</td>\n",
       "      <td>11050.62</td>\n",
       "      <td>0</td>\n",
       "    </tr>\n",
       "    <tr>\n",
       "      <th>2973</th>\n",
       "      <td>0.0</td>\n",
       "      <td>0.00</td>\n",
       "      <td>31.0</td>\n",
       "      <td>12633.89</td>\n",
       "      <td>1</td>\n",
       "    </tr>\n",
       "    <tr>\n",
       "      <th>3107</th>\n",
       "      <td>0.0</td>\n",
       "      <td>0.00</td>\n",
       "      <td>0.0</td>\n",
       "      <td>530.78</td>\n",
       "      <td>1</td>\n",
       "    </tr>\n",
       "    <tr>\n",
       "      <th>3200</th>\n",
       "      <td>0.0</td>\n",
       "      <td>0.00</td>\n",
       "      <td>55.0</td>\n",
       "      <td>10858.90</td>\n",
       "      <td>1</td>\n",
       "    </tr>\n",
       "  </tbody>\n",
       "</table>\n",
       "</div>"
      ],
      "text/plain": [
       "      calls  minutes  messages   mb_used  is_ultra\n",
       "54      0.0     0.00      33.0  14010.33         1\n",
       "247     0.0     0.00      35.0  16444.99         1\n",
       "264     0.0     0.00      21.0  19559.55         0\n",
       "351     0.0     0.00       8.0  35525.61         1\n",
       "390     0.0     0.00      25.0  19088.67         1\n",
       "484     0.0     0.00     191.0  32448.02         1\n",
       "551     0.0     0.00      24.0  18701.54         1\n",
       "647     0.0     0.00      30.0  10236.20         1\n",
       "769     0.0     0.00      32.0  17206.44         0\n",
       "884     0.0     0.00     180.0  32045.73         1\n",
       "951     0.0     0.00     185.0  31032.94         1\n",
       "1040    0.0     0.00      29.0  21289.28         1\n",
       "1094    0.0     0.00      35.0  17322.59         0\n",
       "1103    0.0     0.00     201.0  27825.95         1\n",
       "1142  203.0  1566.45      20.0   3059.86         1\n",
       "1238    0.0     0.00      30.0  20016.75         1\n",
       "1248    0.0     0.00      20.0  18418.27         1\n",
       "1351    0.0     0.00       9.0   2923.50         1\n",
       "1448    0.0     0.00       7.0  39419.77         1\n",
       "1533    0.0     0.00     188.0  33189.50         1\n",
       "1598    0.0     0.00      28.0  16573.03         1\n",
       "1649    0.0     0.00     211.0  27695.86         1\n",
       "1669    0.0     0.00      19.0  17289.88         1\n",
       "1743    0.0     0.00      20.0  13688.68         1\n",
       "1755    0.0     0.00      48.0  12442.93         0\n",
       "1841    0.0     0.00      30.0  10703.39         1\n",
       "1876    0.0     0.00     173.0  27431.66         1\n",
       "1880    0.0     0.00      44.0  15644.73         1\n",
       "1921    0.0     0.00      14.0  21673.83         1\n",
       "2155    0.0     0.00      24.0  21626.90         1\n",
       "2207    0.0     0.00      32.0  16597.13         1\n",
       "2256    0.0     0.00      42.0  13280.45         1\n",
       "2291    0.0     0.00      28.0  11864.26         1\n",
       "2589  244.0  1632.06      39.0   9756.91         1\n",
       "2682    0.0     0.00      23.0  21934.04         1\n",
       "2879    0.0     0.00       6.0  22428.00         1\n",
       "2943    0.0     0.00      17.0  12905.41         1\n",
       "2958    0.0     0.00      20.0  17491.66         0\n",
       "2962    0.0     0.00      17.0  11050.62         0\n",
       "2973    0.0     0.00      31.0  12633.89         1\n",
       "3107    0.0     0.00       0.0    530.78         1\n",
       "3200    0.0     0.00      55.0  10858.90         1"
      ]
     },
     "execution_count": 6,
     "metadata": {},
     "output_type": "execute_result"
    }
   ],
   "source": [
    "df.query('minutes==0 or minutes>=1500')"
   ]
  },
  {
   "cell_type": "code",
   "execution_count": 7,
   "metadata": {},
   "outputs": [
    {
     "data": {
      "text/html": [
       "<div>\n",
       "<style scoped>\n",
       "    .dataframe tbody tr th:only-of-type {\n",
       "        vertical-align: middle;\n",
       "    }\n",
       "\n",
       "    .dataframe tbody tr th {\n",
       "        vertical-align: top;\n",
       "    }\n",
       "\n",
       "    .dataframe thead th {\n",
       "        text-align: right;\n",
       "    }\n",
       "</style>\n",
       "<table border=\"1\" class=\"dataframe\">\n",
       "  <thead>\n",
       "    <tr style=\"text-align: right;\">\n",
       "      <th></th>\n",
       "      <th>calls</th>\n",
       "      <th>minutes</th>\n",
       "      <th>messages</th>\n",
       "      <th>mb_used</th>\n",
       "      <th>is_ultra</th>\n",
       "    </tr>\n",
       "  </thead>\n",
       "  <tbody>\n",
       "    <tr>\n",
       "      <th>957</th>\n",
       "      <td>152.0</td>\n",
       "      <td>1181.82</td>\n",
       "      <td>121.0</td>\n",
       "      <td>49745.73</td>\n",
       "      <td>1</td>\n",
       "    </tr>\n",
       "    <tr>\n",
       "      <th>1141</th>\n",
       "      <td>54.0</td>\n",
       "      <td>434.49</td>\n",
       "      <td>0.0</td>\n",
       "      <td>48351.61</td>\n",
       "      <td>1</td>\n",
       "    </tr>\n",
       "    <tr>\n",
       "      <th>2657</th>\n",
       "      <td>37.0</td>\n",
       "      <td>258.09</td>\n",
       "      <td>0.0</td>\n",
       "      <td>45180.75</td>\n",
       "      <td>1</td>\n",
       "    </tr>\n",
       "  </tbody>\n",
       "</table>\n",
       "</div>"
      ],
      "text/plain": [
       "      calls  minutes  messages   mb_used  is_ultra\n",
       "957   152.0  1181.82     121.0  49745.73         1\n",
       "1141   54.0   434.49       0.0  48351.61         1\n",
       "2657   37.0   258.09       0.0  45180.75         1"
      ]
     },
     "execution_count": 7,
     "metadata": {},
     "output_type": "execute_result"
    }
   ],
   "source": [
    "df.query('mb_used>=45000')"
   ]
  },
  {
   "cell_type": "markdown",
   "metadata": {},
   "source": [
    "Так как нулевые данные могут запутать модель, которая будет пытаться обобщить их, удалим эти данные. Также удалим выбивающиеся значения, как правило, это должно влиять благотворно на обучение и качество модели."
   ]
  },
  {
   "cell_type": "code",
   "execution_count": 8,
   "metadata": {},
   "outputs": [],
   "source": [
    "df.drop(df.query('minutes==0 or minutes>=1500 or mb_used>=45000').index, inplace=True, axis=0)"
   ]
  },
  {
   "cell_type": "markdown",
   "metadata": {},
   "source": [
    "В столбце \"is_ultra\" данные  распределены неравномерно между тарифами. По тарифу Смарт более чем в 2 раза больше данных чем по тарифу Ультра. При разделении на выборки стоит это учесть."
   ]
  },
  {
   "cell_type": "markdown",
   "metadata": {},
   "source": [
    "Рассмотрим взаимосвязь между признаками:"
   ]
  },
  {
   "cell_type": "code",
   "execution_count": 9,
   "metadata": {},
   "outputs": [
    {
     "data": {
      "image/png": "[encoded data removed]",
      "text/plain": [
       "<Figure size 648x648 with 16 Axes>"
      ]
     },
     "metadata": {
      "needs_background": "light"
     },
     "output_type": "display_data"
    }
   ],
   "source": [
    "pd.plotting.scatter_matrix(df[['calls', 'minutes', 'messages', 'mb_used']], figsize=(9,9));"
   ]
  },
  {
   "cell_type": "code",
   "execution_count": 10,
   "metadata": {},
   "outputs": [
    {
     "data": {
      "text/html": [
       "<div>\n",
       "<style scoped>\n",
       "    .dataframe tbody tr th:only-of-type {\n",
       "        vertical-align: middle;\n",
       "    }\n",
       "\n",
       "    .dataframe tbody tr th {\n",
       "        vertical-align: top;\n",
       "    }\n",
       "\n",
       "    .dataframe thead th {\n",
       "        text-align: right;\n",
       "    }\n",
       "</style>\n",
       "<table border=\"1\" class=\"dataframe\">\n",
       "  <thead>\n",
       "    <tr style=\"text-align: right;\">\n",
       "      <th></th>\n",
       "      <th>calls</th>\n",
       "      <th>minutes</th>\n",
       "      <th>messages</th>\n",
       "      <th>mb_used</th>\n",
       "    </tr>\n",
       "  </thead>\n",
       "  <tbody>\n",
       "    <tr>\n",
       "      <th>calls</th>\n",
       "      <td>1.000000</td>\n",
       "      <td>0.981028</td>\n",
       "      <td>0.196632</td>\n",
       "      <td>0.308912</td>\n",
       "    </tr>\n",
       "    <tr>\n",
       "      <th>minutes</th>\n",
       "      <td>0.981028</td>\n",
       "      <td>1.000000</td>\n",
       "      <td>0.191777</td>\n",
       "      <td>0.302266</td>\n",
       "    </tr>\n",
       "    <tr>\n",
       "      <th>messages</th>\n",
       "      <td>0.196632</td>\n",
       "      <td>0.191777</td>\n",
       "      <td>1.000000</td>\n",
       "      <td>0.186885</td>\n",
       "    </tr>\n",
       "    <tr>\n",
       "      <th>mb_used</th>\n",
       "      <td>0.308912</td>\n",
       "      <td>0.302266</td>\n",
       "      <td>0.186885</td>\n",
       "      <td>1.000000</td>\n",
       "    </tr>\n",
       "  </tbody>\n",
       "</table>\n",
       "</div>"
      ],
      "text/plain": [
       "             calls   minutes  messages   mb_used\n",
       "calls     1.000000  0.981028  0.196632  0.308912\n",
       "minutes   0.981028  1.000000  0.191777  0.302266\n",
       "messages  0.196632  0.191777  1.000000  0.186885\n",
       "mb_used   0.308912  0.302266  0.186885  1.000000"
      ]
     },
     "execution_count": 10,
     "metadata": {},
     "output_type": "execute_result"
    }
   ],
   "source": [
    "df[['calls', 'minutes', 'messages', 'mb_used']].corr()"
   ]
  },
  {
   "cell_type": "markdown",
   "metadata": {},
   "source": [
    "Между параметрами количеством звонков и продолжительностью минут наблюдается сильная линейная связь - мультиколлинеарность.\n",
    "Мультиколлинеарность негативно влияет на модели машинного обучения. Так, для линейных моделей она может приводить к неустойчивости коэффициентов. Но так как эти переменные зависимы друг от друга, связь между ними очевидна - чем больше количество звонком тем дольше продолжительность, то удалять их не будем, так как мультиколлинеарность влияет больше на независимые переменные."
   ]
  },
  {
   "cell_type": "markdown",
   "metadata": {},
   "source": [
    "## Разбейте данные на выборки"
   ]
  },
  {
   "cell_type": "markdown",
   "metadata": {},
   "source": [
    "Так как надо разделить выборку на три части, то это будет происходить в два этапа - сначала разделим на обучающую (60%) и проверочную (40%), затем проверочную разделим на тестовую (20%) и валидационную (20%). Также,  как говорилось ранее, чтобы сохнанить соотношение в столбце \"is_ultra\" используем стратификацию, тогда в обоих выборках будет одинаковый баланс классов. Параметром stratify учитываем однородность выборок."
   ]
  },
  {
   "cell_type": "code",
   "execution_count": 11,
   "metadata": {},
   "outputs": [],
   "source": [
    "df_train, df_control = train_test_split(df, test_size=0.4, random_state=12345, stratify=df['is_ultra']) # обучающая и проверочная выборки"
   ]
  },
  {
   "cell_type": "code",
   "execution_count": 12,
   "metadata": {},
   "outputs": [],
   "source": [
    "df_test, df_valid = train_test_split(df_control, test_size=0.5, random_state=12345, stratify=df_control['is_ultra']) # тестовая и валидационная выборки"
   ]
  },
  {
   "cell_type": "code",
   "execution_count": 13,
   "metadata": {},
   "outputs": [
    {
     "name": "stdout",
     "output_type": "stream",
     "text": [
      "<class 'pandas.core.frame.DataFrame'>\n",
      "Int64Index: 1901 entries, 3039 to 2263\n",
      "Data columns (total 5 columns):\n",
      " #   Column    Non-Null Count  Dtype  \n",
      "---  ------    --------------  -----  \n",
      " 0   calls     1901 non-null   float64\n",
      " 1   minutes   1901 non-null   float64\n",
      " 2   messages  1901 non-null   float64\n",
      " 3   mb_used   1901 non-null   float64\n",
      " 4   is_ultra  1901 non-null   int64  \n",
      "dtypes: float64(4), int64(1)\n",
      "memory usage: 89.1 KB\n"
     ]
    },
    {
     "data": {
      "text/plain": [
       "0    1334\n",
       "1     567\n",
       "Name: is_ultra, dtype: int64"
      ]
     },
     "execution_count": 13,
     "metadata": {},
     "output_type": "execute_result"
    }
   ],
   "source": [
    "df_train.info() # проверка обучающей выборки\n",
    "df_train['is_ultra'].value_counts()"
   ]
  },
  {
   "cell_type": "code",
   "execution_count": 14,
   "metadata": {},
   "outputs": [
    {
     "name": "stdout",
     "output_type": "stream",
     "text": [
      "<class 'pandas.core.frame.DataFrame'>\n",
      "Int64Index: 634 entries, 3013 to 692\n",
      "Data columns (total 5 columns):\n",
      " #   Column    Non-Null Count  Dtype  \n",
      "---  ------    --------------  -----  \n",
      " 0   calls     634 non-null    float64\n",
      " 1   minutes   634 non-null    float64\n",
      " 2   messages  634 non-null    float64\n",
      " 3   mb_used   634 non-null    float64\n",
      " 4   is_ultra  634 non-null    int64  \n",
      "dtypes: float64(4), int64(1)\n",
      "memory usage: 29.7 KB\n"
     ]
    },
    {
     "data": {
      "text/plain": [
       "0    444\n",
       "1    190\n",
       "Name: is_ultra, dtype: int64"
      ]
     },
     "execution_count": 14,
     "metadata": {},
     "output_type": "execute_result"
    }
   ],
   "source": [
    "df_test.info() # проверка тестовой выборки\n",
    "df_test['is_ultra'].value_counts()"
   ]
  },
  {
   "cell_type": "code",
   "execution_count": 15,
   "metadata": {},
   "outputs": [
    {
     "name": "stdout",
     "output_type": "stream",
     "text": [
      "<class 'pandas.core.frame.DataFrame'>\n",
      "Int64Index: 634 entries, 112 to 757\n",
      "Data columns (total 5 columns):\n",
      " #   Column    Non-Null Count  Dtype  \n",
      "---  ------    --------------  -----  \n",
      " 0   calls     634 non-null    float64\n",
      " 1   minutes   634 non-null    float64\n",
      " 2   messages  634 non-null    float64\n",
      " 3   mb_used   634 non-null    float64\n",
      " 4   is_ultra  634 non-null    int64  \n",
      "dtypes: float64(4), int64(1)\n",
      "memory usage: 29.7 KB\n"
     ]
    },
    {
     "data": {
      "text/plain": [
       "0    445\n",
       "1    189\n",
       "Name: is_ultra, dtype: int64"
      ]
     },
     "execution_count": 15,
     "metadata": {},
     "output_type": "execute_result"
    }
   ],
   "source": [
    "df_valid.info() # проверка валидационной выборки\n",
    "df_valid['is_ultra'].value_counts()"
   ]
  },
  {
   "cell_type": "markdown",
   "metadata": {},
   "source": [
    "Как видим, выборки распределены равномерно, соотношение тарифом сохраняется во всех трех выборках."
   ]
  },
  {
   "cell_type": "markdown",
   "metadata": {},
   "source": [
    "## Исследуйте модели"
   ]
  },
  {
   "cell_type": "markdown",
   "metadata": {},
   "source": [
    "Обьявим две переменные для каждой выборки: features — признаки (все столбцы, кроме тарифа), target — целевой признак (тариф)."
   ]
  },
  {
   "cell_type": "code",
   "execution_count": 16,
   "metadata": {},
   "outputs": [],
   "source": [
    "features_train = df_train.drop(['is_ultra'], axis=1) # переменные для обучающей выборки\n",
    "target_train = df_train['is_ultra']"
   ]
  },
  {
   "cell_type": "code",
   "execution_count": 17,
   "metadata": {},
   "outputs": [],
   "source": [
    "features_test = df_test.drop(['is_ultra'], axis=1) # переменные для тестовой выборки\n",
    "target_test = df_test['is_ultra']"
   ]
  },
  {
   "cell_type": "code",
   "execution_count": 18,
   "metadata": {},
   "outputs": [],
   "source": [
    "features_valid = df_valid.drop(['is_ultra'], axis=1) # переменные для валидационной выборки\n",
    "target_valid = df_valid['is_ultra']"
   ]
  },
  {
   "cell_type": "markdown",
   "metadata": {},
   "source": [
    "### Модель \"Дерево решений\""
   ]
  },
  {
   "cell_type": "code",
   "execution_count": 20,
   "metadata": {
    "scrolled": true
   },
   "outputs": [
    {
     "name": "stdout",
     "output_type": "stream",
     "text": [
      "Accuracy лучшей модели  0.81073 . Глубина: 4\n",
      "Precision лучшей модели 0.71839\n",
      "recall лучшей модели 0.71924\n",
      "f1 лучшей модели 0.71881\n",
      "confusion_matrix [[357  88]\n",
      " [ 90  99]]\n"
     ]
    }
   ],
   "source": [
    "best_model_dt = None\n",
    "best_result_dt = 0\n",
    "best_depth_dt = 0\n",
    "list_train=[]\n",
    "list_valid=[]\n",
    "list_depth=[]\n",
    "for depth in range(1,21):\n",
    "    model_dt = DecisionTreeClassifier(random_state=12345, max_depth=depth)\n",
    "    model_dt.fit(features_train, target_train)\n",
    "    result_tree = model_dt.predict(features_valid)\n",
    "    accuracy_tree = accuracy_score(target_valid, result_tree)\n",
    "    accurary_train = accuracy_score(target_train, model_dt.predict(features_train)) # Accuracy\n",
    "    precis_dt = precision_score(target_valid, result_tree, average='weighted') # Precision\n",
    "    recal_dt = recall_score(target_valid, result_tree, average='weighted') # recall\n",
    "    f1_dt = f1_score(target_valid, result_tree, average='weighted') # f1\n",
    "    cm_dt = confusion_matrix(target_valid, result_tree) # confusion_matrix\n",
    "    list_valid.append(accuracy_tree)\n",
    "    list_train.append(accurary_train)\n",
    "    list_depth.append(depth)\n",
    "    if accuracy_tree > best_result_dt:\n",
    "        best_model_dt = model_dt\n",
    "        best_result_dt = accuracy_tree\n",
    "        best_depth_dt = depth    \n",
    "print('Accuracy лучшей модели ', round(best_result_dt, 5), '. Глубина:', best_depth_dt)\n",
    "print('Precision лучшей модели', round(precis_dt, 5))\n",
    "print('recall лучшей модели', round(recal_dt, 5))\n",
    "print('f1 лучшей модели', round(f1_dt, 5))\n",
    "print('confusion_matrix', cm_dt)"
   ]
  },
  {
   "cell_type": "code",
   "execution_count": null,
   "metadata": {},
   "outputs": [],
   "source": []
  },
  {
   "cell_type": "markdown",
   "metadata": {},
   "source": [
    "Построим график, где наглядно посмотрим как меняется точность модели на валидационной и обучающей выборок при изменении гиперпараметра."
   ]
  },
  {
   "cell_type": "code",
   "execution_count": 230,
   "metadata": {},
   "outputs": [
    {
     "data": {
      "image/png": "[encoded data removed]",
      "text/plain": [
       "<Figure size 936x360 with 1 Axes>"
      ]
     },
     "metadata": {
      "needs_background": "light"
     },
     "output_type": "display_data"
    }
   ],
   "source": [
    "plt.figure(figsize=(13, 5))\n",
    "plt.plot(list_depth, list_valid, label='valid')\n",
    "plt.plot(list_depth, list_train, label='train')\n",
    "plt.grid()\n",
    "plt.title('Точность предсказаний при изменении глубины деревьев')\n",
    "plt.xlabel('Глубина')\n",
    "plt.ylabel('Точность предсказаний');\n",
    "plt.legend()\n",
    "plt.show()"
   ]
  },
  {
   "cell_type": "markdown",
   "metadata": {},
   "source": [
    "По графику видно, что на обучающей выборке чем больше глубина деревьев, тем больше точность предсказаний и она стремится к 100%, что логично. В свою очередь, на валидационной выборке при глубине дереьев более 9 доля правильных объектов падает, что говорит о переобучаемости модели."
   ]
  },
  {
   "cell_type": "code",
   "execution_count": 231,
   "metadata": {},
   "outputs": [
    {
     "data": {
      "image/png": "[encoded data removed]",
      "text/plain": [
       "<Figure size 936x360 with 1 Axes>"
      ]
     },
     "metadata": {
      "needs_background": "light"
     },
     "output_type": "display_data"
    }
   ],
   "source": [
    "# построение графика дерева решений\n",
    "plt.figure(figsize=(13, 5))\n",
    "model_dt_tr = DecisionTreeClassifier(random_state=12345, max_depth=3)\n",
    "model_dt_tr.fit(features_train, target_train)\n",
    "\n",
    "tree.plot_tree(model_dt_tr, class_names=True);"
   ]
  },
  {
   "cell_type": "markdown",
   "metadata": {},
   "source": [
    "### Модель \"Случайный лес\""
   ]
  },
  {
   "cell_type": "code",
   "execution_count": 29,
   "metadata": {},
   "outputs": [
    {
     "name": "stdout",
     "output_type": "stream",
     "text": [
      "Accuracy лучшей модели: 0.81861 Количество деревьев: 21 Глубина: 7\n",
      "Precision лучшей модели 0.79818\n",
      "recall лучшей модели 0.80442\n",
      "f1 лучшей модели 0.79214\n",
      "confusion_matrix: [413  32  92  97]\n",
      "CPU times: user 3.62 s, sys: 35.8 ms, total: 3.66 s\n",
      "Wall time: 3.66 s\n"
     ]
    }
   ],
   "source": [
    "%%time\n",
    "best_model_rf = None\n",
    "best_result_rf = 0\n",
    "best_est_rf = 0\n",
    "best_depth_rf = 0\n",
    "for est in range(1, 51, 10):\n",
    "    for depth in range (1, 11):\n",
    "        model_rf = RandomForestClassifier(random_state=12345, n_estimators=est, max_depth=depth) \n",
    "        model_rf.fit(features_train, target_train)\n",
    "        result = model_rf.score(features_valid, target_valid) # Accuracy\n",
    "        precis_rf = precision_score(target_valid, model_rf.predict(features_valid), average='weighted') # Precision\n",
    "        recal_rf = recall_score(target_valid, model_rf.predict(features_valid), average='weighted') # recall\n",
    "        f1_rf = f1_score(target_valid, model_rf.predict(features_valid), average='weighted') # f1\n",
    "        cm_rf = confusion_matrix(target_valid, model_rf.predict(features_valid)).ravel # confusion_matrix\n",
    "        if result > best_result_rf:\n",
    "            best_model_rf = model_rf\n",
    "            best_result_rf = result\n",
    "            best_est_rf = est\n",
    "            best_depth_rf = depth\n",
    "\n",
    "print(\"Accuracy лучшей модели:\", round(best_result_rf, 5), 'Количество деревьев:', best_est_rf, 'Глубина:', best_depth_rf)\n",
    "print('Precision лучшей модели', round(precis_rf, 5))\n",
    "print('recall лучшей модели', round(recal_rf, 5))\n",
    "print('f1 лучшей модели', round(f1_rf, 5))\n",
    "print('confusion_matrix:', cm_rf)"
   ]
  },
  {
   "cell_type": "code",
   "execution_count": 233,
   "metadata": {},
   "outputs": [
    {
     "name": "stdout",
     "output_type": "stream",
     "text": [
      "0.8111534742367731\n",
      "RandomForestClassifier(max_depth=9, n_estimators=41)\n",
      "CPU times: user 13.2 s, sys: 91.7 ms, total: 13.3 s\n",
      "Wall time: 13.4 s\n"
     ]
    }
   ],
   "source": [
    "%%time\n",
    "# модель через GridSearchCV\n",
    "mod = RandomForestClassifier()\n",
    "parametrs = { 'n_estimators': range (1, 51, 10),\n",
    "              'max_depth': range (1, 11) }\n",
    "grid = GridSearchCV(mod, parametrs, cv=5)\n",
    "grid.fit(features_train, target_train)\n",
    "rf_3 = grid.best_estimator_\n",
    "print(grid.best_score_)\n",
    "print(grid.best_estimator_)"
   ]
  },
  {
   "cell_type": "markdown",
   "metadata": {},
   "source": [
    "### Логистическая регрессия"
   ]
  },
  {
   "cell_type": "code",
   "execution_count": 21,
   "metadata": {},
   "outputs": [
    {
     "name": "stdout",
     "output_type": "stream",
     "text": [
      "Accuracy : 0.76498\n",
      "Precision лучшей модели 0.7754\n",
      "recall лучшей модели 0.76498\n",
      "f1 лучшей модели 0.7214\n",
      "confusion_matrix: [[433  12]\n",
      " [137  52]]\n"
     ]
    }
   ],
   "source": [
    "model_lr = LogisticRegression(random_state=12345, solver='lbfgs', max_iter=1000)\n",
    "model_lr.fit(features_train, target_train)\n",
    "predictions_valid = model_lr.predict(features_valid)\n",
    "accuracy_lr = model_lr.score(features_valid, target_valid)\n",
    "precis_lr = precision_score(target_valid, predictions_valid, average='weighted') # Precision\n",
    "recal_lr = recall_score(target_valid, predictions_valid, average='weighted') # recall\n",
    "f1_lr = f1_score(target_valid, predictions_valid, average='weighted') # f1\n",
    "cm_lr = confusion_matrix(target_valid, predictions_valid)\n",
    "print(\"Accuracy :\", round(accuracy_lr, 5))\n",
    "print('Precision лучшей модели', round(precis_lr, 5))\n",
    "print('recall лучшей модели', round(recal_lr, 5))\n",
    "print('f1 лучшей модели', round(f1_lr, 5))\n",
    "print('confusion_matrix:', cm_lr)"
   ]
  },
  {
   "cell_type": "markdown",
   "metadata": {},
   "source": [
    "Таким образом, лучшей моделью является модель \"Случайного леса\" с долей правильных ответов практически 82% при глубине 7 и количестве деревьев 21.\n",
    "На втором месте модель \"Дерево решений\" с долей правильных ответов 81% и глубине 4."
   ]
  },
  {
   "cell_type": "markdown",
   "metadata": {},
   "source": [
    "## Проверьте модель на тестовой выборке"
   ]
  },
  {
   "cell_type": "markdown",
   "metadata": {},
   "source": [
    "Проверяем лучшую модель \"Случайный лес\" на тестовой выборке"
   ]
  },
  {
   "cell_type": "code",
   "execution_count": 235,
   "metadata": {},
   "outputs": [
    {
     "name": "stdout",
     "output_type": "stream",
     "text": [
      "Accuracy на тестовой выборке: 0.80915\n"
     ]
    }
   ],
   "source": [
    "model_test = RandomForestClassifier(random_state=12345, n_estimators=21, max_depth=7) \n",
    "model_test.fit(features_train, target_train) \n",
    "result = model_test.score(features_test, target_test) \n",
    "       \n",
    "\n",
    "print(\"Accuracy на тестовой выборке:\", round(result,5))"
   ]
  },
  {
   "cell_type": "markdown",
   "metadata": {},
   "source": [
    "Модель на тестовой выборке показывается меньший процент правильных ответов, но все равно более 80%."
   ]
  },
  {
   "cell_type": "markdown",
   "metadata": {},
   "source": [
    "Соединим валидационную и обучающую выборку для проверки и проверим модель на тестовой выборки еще раз"
   ]
  },
  {
   "cell_type": "code",
   "execution_count": 240,
   "metadata": {},
   "outputs": [],
   "source": [
    "features_total = pd.concat((features_train, features_valid), axis=0)\n",
    "target_total = pd.concat((target_train, target_valid), axis=0)"
   ]
  },
  {
   "cell_type": "code",
   "execution_count": 241,
   "metadata": {},
   "outputs": [
    {
     "name": "stdout",
     "output_type": "stream",
     "text": [
      "Accuracy на тестовой выборке: 0.80442\n"
     ]
    }
   ],
   "source": [
    "model_test = RandomForestClassifier(random_state=12345, n_estimators=21, max_depth=7) \n",
    "model_test.fit(features_total, target_total) \n",
    "result = model_test.score(features_test, target_test) \n",
    "       \n",
    "\n",
    "print(\"Accuracy на тестовой выборке:\", round(result,5))"
   ]
  },
  {
   "cell_type": "markdown",
   "metadata": {},
   "source": [
    "## (бонус) Проверьте модели на адекватность"
   ]
  },
  {
   "cell_type": "markdown",
   "metadata": {},
   "source": [
    "Чтобы убедиться, что наша модель выполняет свою работу и имеет предсказательную силу, проверим адекватность модели используя специальную модель - sklearn.dummy.DummyClassifier. Так как данные по тарифам распределены неравномерно, используем strategy=\"most_frequent\""
   ]
  },
  {
   "cell_type": "code",
   "execution_count": 89,
   "metadata": {},
   "outputs": [
    {
     "name": "stdout",
     "output_type": "stream",
     "text": [
      "Accurary случайной модели: 0.70032\n"
     ]
    }
   ],
   "source": [
    "dummy_clf = DummyClassifier(strategy=\"most_frequent\", random_state=12345)\n",
    "dummy_clf.fit(features_train, target_train)\n",
    "dummy_clf.predict(features_valid)\n",
    "print('Accurary случайной модели:', round(dummy_clf.score(features_test, target_test), 5))"
   ]
  },
  {
   "cell_type": "markdown",
   "metadata": {},
   "source": [
    "Таким образом, наша модель ведет себя лучше, это значит, что она имеет предсказательную силу. Можно сделать вывод, что модель подобрана правильно. "
   ]
  },
  {
   "cell_type": "markdown",
   "metadata": {},
   "source": [
    "## Общий вывод"
   ]
  },
  {
   "cell_type": "markdown",
   "metadata": {},
   "source": [
    "В данном проекте была построена модель для задачи классификации, которая выбирает подходящий тариф.\n",
    "Для этого, при изучении исходных данных было обнаружено, что в модели присутствуют нулевые значения в столбцах \"calls\" и \"minutes\", а также одиночные выбросы в столбцах \"calls\", \"minutes\" и \"mb_used\". Так как нулевые значения могли запутать модель, а удаление выбросов благотворно влияет на ее предсказательную силу, удалили эти данные.  Между \"calls\" и \"minutes\" была обнаружена мультиколлинеарность - сильная взаимосвязь между параметрами, но так как эти параметры зависимы друг от друга, оставили их без изменений. \n",
    "Данные были разбиты на три выборки - обучающая (60%), тестовая(20%) и валидационная(20%). Так как данные в столбце \"is_ultra\" у нас неоднородны, при делении на выборки была использована стратификация, тогда во всех выборках сохранено соотношение тарифов.\n",
    "\n",
    "Были объявлены две переменные для каждой выборки: features — признаки (все столбцы, кроме тарифа), target — целевой признак (тариф).\n",
    "\n",
    "Далее были построены и исследованы три модели - модель \"Дерево решений\", модель \"Случайный лес\" и логистическая регрессия. Лучшей моделью является модель \"Случайного леса\" с долей правильных ответов практически 82% при глубине 7 и количестве деревьев 21. Данная модель была проверена на тестовых данных, которая показала Accuracy практически 81%, что говорит о том, что модель имеет предсказательную базу, а не просто заучила ответы.\n",
    "Модель \"Случайный лес\" была проверена на адекватность через sklearn.dummy.DummyClassifier. Наша модель показала больше правильных ответом, что говорит о том, что она подобрана правильно и имеет предсказательную силу.\n",
    "Таким образом, можно использовать данную модель для предложения клиентам заказчика новых тарифов \"Смарт\" или \"Ультра\".\n",
    "\n",
    "\n"
   ]
  }
 ],
 "metadata": {
  "ExecuteTimeLog": [
   {
    "duration": 373,
    "start_time": "2022-12-12T10:35:09.994Z"
   },
   {
    "duration": 78,
    "start_time": "2022-12-12T10:35:10.619Z"
   },
   {
    "duration": 12,
    "start_time": "2022-12-12T10:35:25.070Z"
   },
   {
    "duration": 17,
    "start_time": "2022-12-12T10:35:49.568Z"
   },
   {
    "duration": 1138,
    "start_time": "2022-12-13T12:08:05.547Z"
   },
   {
    "duration": 150,
    "start_time": "2022-12-13T12:08:10.601Z"
   },
   {
    "duration": 12,
    "start_time": "2022-12-13T12:08:12.001Z"
   },
   {
    "duration": 18,
    "start_time": "2022-12-13T12:08:18.364Z"
   },
   {
    "duration": 419,
    "start_time": "2022-12-13T12:18:44.423Z"
   },
   {
    "duration": 612,
    "start_time": "2022-12-13T12:22:17.929Z"
   },
   {
    "duration": 7,
    "start_time": "2022-12-13T12:22:35.866Z"
   },
   {
    "duration": 28,
    "start_time": "2022-12-13T12:22:36.508Z"
   },
   {
    "duration": 13,
    "start_time": "2022-12-13T12:22:37.242Z"
   },
   {
    "duration": 17,
    "start_time": "2022-12-13T12:22:38.005Z"
   },
   {
    "duration": 1760,
    "start_time": "2022-12-13T12:22:39.753Z"
   },
   {
    "duration": 13,
    "start_time": "2022-12-13T12:26:34.898Z"
   },
   {
    "duration": 12,
    "start_time": "2022-12-13T12:26:39.493Z"
   },
   {
    "duration": 6,
    "start_time": "2022-12-13T12:27:09.505Z"
   },
   {
    "duration": 5,
    "start_time": "2022-12-13T12:56:19.634Z"
   },
   {
    "duration": 6,
    "start_time": "2022-12-13T12:59:56.910Z"
   },
   {
    "duration": 5,
    "start_time": "2022-12-13T12:59:57.483Z"
   },
   {
    "duration": 13,
    "start_time": "2022-12-13T13:00:16.355Z"
   },
   {
    "duration": 18,
    "start_time": "2022-12-13T13:00:34.345Z"
   },
   {
    "duration": 20,
    "start_time": "2022-12-13T13:00:41.634Z"
   },
   {
    "duration": 13,
    "start_time": "2022-12-13T13:00:46.851Z"
   },
   {
    "duration": 13,
    "start_time": "2022-12-13T13:01:00.603Z"
   },
   {
    "duration": 11,
    "start_time": "2022-12-13T13:01:17.688Z"
   },
   {
    "duration": 5,
    "start_time": "2022-12-13T13:01:26.702Z"
   },
   {
    "duration": 7,
    "start_time": "2022-12-13T13:01:30.502Z"
   },
   {
    "duration": 6,
    "start_time": "2022-12-13T13:01:31.130Z"
   },
   {
    "duration": 12,
    "start_time": "2022-12-13T13:01:31.736Z"
   },
   {
    "duration": 11,
    "start_time": "2022-12-13T13:01:32.402Z"
   },
   {
    "duration": 12,
    "start_time": "2022-12-13T13:01:33.201Z"
   },
   {
    "duration": 18,
    "start_time": "2022-12-13T13:02:08.291Z"
   },
   {
    "duration": 14,
    "start_time": "2022-12-13T13:02:46.624Z"
   },
   {
    "duration": 14,
    "start_time": "2022-12-13T13:02:54.724Z"
   },
   {
    "duration": 15,
    "start_time": "2022-12-13T13:03:14.637Z"
   },
   {
    "duration": 5,
    "start_time": "2022-12-13T13:26:40.465Z"
   },
   {
    "duration": 4,
    "start_time": "2022-12-13T13:27:21.747Z"
   },
   {
    "duration": 4,
    "start_time": "2022-12-13T13:27:22.281Z"
   },
   {
    "duration": 4,
    "start_time": "2022-12-13T13:27:22.865Z"
   },
   {
    "duration": 2,
    "start_time": "2022-12-13T13:32:06.574Z"
   },
   {
    "duration": 16,
    "start_time": "2022-12-13T13:43:09.367Z"
   },
   {
    "duration": 6,
    "start_time": "2022-12-13T13:43:20.712Z"
   },
   {
    "duration": 7,
    "start_time": "2022-12-13T13:43:42.318Z"
   },
   {
    "duration": 14,
    "start_time": "2022-12-13T13:43:43.452Z"
   },
   {
    "duration": 14,
    "start_time": "2022-12-13T13:43:47.257Z"
   },
   {
    "duration": 18,
    "start_time": "2022-12-13T13:43:47.273Z"
   },
   {
    "duration": 3,
    "start_time": "2022-12-13T14:25:46.330Z"
   },
   {
    "duration": 27,
    "start_time": "2022-12-13T14:25:47.025Z"
   },
   {
    "duration": 11,
    "start_time": "2022-12-13T14:25:47.573Z"
   },
   {
    "duration": 11,
    "start_time": "2022-12-13T14:25:48.242Z"
   },
   {
    "duration": 6,
    "start_time": "2022-12-13T14:25:49.493Z"
   },
   {
    "duration": 7,
    "start_time": "2022-12-13T14:25:52.511Z"
   },
   {
    "duration": 6,
    "start_time": "2022-12-13T14:25:53.156Z"
   },
   {
    "duration": 14,
    "start_time": "2022-12-13T14:25:53.700Z"
   },
   {
    "duration": 15,
    "start_time": "2022-12-13T14:25:54.279Z"
   },
   {
    "duration": 14,
    "start_time": "2022-12-13T14:25:54.889Z"
   },
   {
    "duration": 6,
    "start_time": "2022-12-13T14:25:58.301Z"
   },
   {
    "duration": 5,
    "start_time": "2022-12-13T14:26:00.115Z"
   },
   {
    "duration": 4,
    "start_time": "2022-12-13T14:26:00.740Z"
   },
   {
    "duration": 3,
    "start_time": "2022-12-13T14:26:02.066Z"
   },
   {
    "duration": 79,
    "start_time": "2022-12-13T14:27:21.173Z"
   },
   {
    "duration": 16,
    "start_time": "2022-12-13T14:30:31.213Z"
   },
   {
    "duration": 20,
    "start_time": "2022-12-13T14:30:41.069Z"
   },
   {
    "duration": 76,
    "start_time": "2022-12-13T14:33:42.292Z"
   },
   {
    "duration": 92,
    "start_time": "2022-12-13T14:34:07.838Z"
   },
   {
    "duration": 77,
    "start_time": "2022-12-13T14:34:33.413Z"
   },
   {
    "duration": 77,
    "start_time": "2022-12-13T14:34:50.693Z"
   },
   {
    "duration": 76,
    "start_time": "2022-12-13T14:35:52.208Z"
   },
   {
    "duration": 76,
    "start_time": "2022-12-13T14:36:07.697Z"
   },
   {
    "duration": 105,
    "start_time": "2022-12-13T14:36:21.245Z"
   },
   {
    "duration": 110,
    "start_time": "2022-12-13T14:36:44.496Z"
   },
   {
    "duration": 109,
    "start_time": "2022-12-13T14:38:36.337Z"
   },
   {
    "duration": 115,
    "start_time": "2022-12-13T14:39:13.571Z"
   },
   {
    "duration": 117,
    "start_time": "2022-12-13T14:39:29.260Z"
   },
   {
    "duration": 120,
    "start_time": "2022-12-13T14:41:46.998Z"
   },
   {
    "duration": 103,
    "start_time": "2022-12-13T14:43:39.652Z"
   },
   {
    "duration": 107,
    "start_time": "2022-12-13T14:44:05.498Z"
   },
   {
    "duration": 102,
    "start_time": "2022-12-13T14:44:18.845Z"
   },
   {
    "duration": 258,
    "start_time": "2022-12-13T14:48:45.310Z"
   },
   {
    "duration": 2230,
    "start_time": "2022-12-13T14:50:50.402Z"
   },
   {
    "duration": 600,
    "start_time": "2022-12-13T14:56:29.915Z"
   },
   {
    "duration": 542,
    "start_time": "2022-12-13T14:57:49.613Z"
   },
   {
    "duration": 4306,
    "start_time": "2022-12-13T14:58:08.508Z"
   },
   {
    "duration": 45,
    "start_time": "2022-12-13T15:03:49.736Z"
   },
   {
    "duration": 58,
    "start_time": "2022-12-13T15:04:31.938Z"
   },
   {
    "duration": 14773,
    "start_time": "2022-12-13T15:04:37.526Z"
   },
   {
    "duration": 4215,
    "start_time": "2022-12-13T15:05:11.701Z"
   },
   {
    "duration": 1821,
    "start_time": "2022-12-13T15:05:36.474Z"
   },
   {
    "duration": 4,
    "start_time": "2022-12-13T15:06:28.035Z"
   },
   {
    "duration": 1697,
    "start_time": "2022-12-13T15:20:10.610Z"
   },
   {
    "duration": 15,
    "start_time": "2022-12-13T15:33:30.967Z"
   },
   {
    "duration": 52,
    "start_time": "2022-12-13T15:33:38.859Z"
   },
   {
    "duration": 33,
    "start_time": "2022-12-13T15:33:51.819Z"
   },
   {
    "duration": 18,
    "start_time": "2022-12-13T15:33:57.109Z"
   },
   {
    "duration": 9,
    "start_time": "2022-12-13T15:34:21.902Z"
   },
   {
    "duration": 7,
    "start_time": "2022-12-13T15:34:28.812Z"
   },
   {
    "duration": 20,
    "start_time": "2022-12-13T15:34:33.119Z"
   },
   {
    "duration": 12,
    "start_time": "2022-12-13T15:35:01.918Z"
   },
   {
    "duration": 21,
    "start_time": "2022-12-13T15:35:10.442Z"
   },
   {
    "duration": 8,
    "start_time": "2022-12-13T15:52:59.289Z"
   },
   {
    "duration": 4,
    "start_time": "2022-12-13T15:53:13.326Z"
   },
   {
    "duration": 8,
    "start_time": "2022-12-13T15:53:25.585Z"
   },
   {
    "duration": 10,
    "start_time": "2022-12-13T15:53:34.925Z"
   },
   {
    "duration": 7,
    "start_time": "2022-12-13T15:53:44.801Z"
   },
   {
    "duration": 14,
    "start_time": "2022-12-13T16:01:17.991Z"
   },
   {
    "duration": 8,
    "start_time": "2022-12-13T17:22:25.464Z"
   },
   {
    "duration": 6,
    "start_time": "2022-12-13T17:22:26.289Z"
   },
   {
    "duration": 14,
    "start_time": "2022-12-13T17:22:26.853Z"
   },
   {
    "duration": 13,
    "start_time": "2022-12-13T17:22:27.469Z"
   },
   {
    "duration": 18,
    "start_time": "2022-12-13T17:25:20.607Z"
   },
   {
    "duration": 12,
    "start_time": "2022-12-13T17:27:52.148Z"
   },
   {
    "duration": 6,
    "start_time": "2022-12-13T17:28:51.393Z"
   },
   {
    "duration": 10,
    "start_time": "2022-12-13T17:28:54.513Z"
   },
   {
    "duration": 6,
    "start_time": "2022-12-13T17:28:54.698Z"
   },
   {
    "duration": 14,
    "start_time": "2022-12-13T17:28:54.880Z"
   },
   {
    "duration": 22,
    "start_time": "2022-12-13T17:28:55.054Z"
   },
   {
    "duration": 14,
    "start_time": "2022-12-13T17:28:55.227Z"
   },
   {
    "duration": 4,
    "start_time": "2022-12-13T17:29:10.651Z"
   },
   {
    "duration": 28,
    "start_time": "2022-12-13T17:29:11.058Z"
   },
   {
    "duration": 12,
    "start_time": "2022-12-13T17:29:11.236Z"
   },
   {
    "duration": 13,
    "start_time": "2022-12-13T17:29:11.420Z"
   },
   {
    "duration": 6,
    "start_time": "2022-12-13T17:29:11.784Z"
   },
   {
    "duration": 1721,
    "start_time": "2022-12-13T17:29:11.991Z"
   },
   {
    "duration": 8,
    "start_time": "2022-12-13T17:29:13.714Z"
   },
   {
    "duration": 28,
    "start_time": "2022-12-13T17:29:13.724Z"
   },
   {
    "duration": 10,
    "start_time": "2022-12-13T17:29:13.754Z"
   },
   {
    "duration": 19,
    "start_time": "2022-12-13T17:29:13.766Z"
   },
   {
    "duration": 6,
    "start_time": "2022-12-13T17:29:14.903Z"
   },
   {
    "duration": 13,
    "start_time": "2022-12-13T17:29:16.028Z"
   },
   {
    "duration": 3,
    "start_time": "2022-12-13T17:29:43.840Z"
   },
   {
    "duration": 28,
    "start_time": "2022-12-13T17:29:44.376Z"
   },
   {
    "duration": 11,
    "start_time": "2022-12-13T17:29:44.961Z"
   },
   {
    "duration": 12,
    "start_time": "2022-12-13T17:29:45.400Z"
   },
   {
    "duration": 6,
    "start_time": "2022-12-13T17:29:46.377Z"
   },
   {
    "duration": 1659,
    "start_time": "2022-12-13T17:29:46.848Z"
   },
   {
    "duration": 9,
    "start_time": "2022-12-13T17:29:48.509Z"
   },
   {
    "duration": 27,
    "start_time": "2022-12-13T17:29:48.519Z"
   },
   {
    "duration": 7,
    "start_time": "2022-12-13T17:29:49.441Z"
   },
   {
    "duration": 8,
    "start_time": "2022-12-13T17:29:50.971Z"
   },
   {
    "duration": 6,
    "start_time": "2022-12-13T17:29:51.588Z"
   },
   {
    "duration": 15,
    "start_time": "2022-12-13T17:29:52.218Z"
   },
   {
    "duration": 15,
    "start_time": "2022-12-13T17:29:52.948Z"
   },
   {
    "duration": 14,
    "start_time": "2022-12-13T17:29:57.904Z"
   },
   {
    "duration": 5,
    "start_time": "2022-12-13T17:30:01.076Z"
   },
   {
    "duration": 4,
    "start_time": "2022-12-13T17:30:01.682Z"
   },
   {
    "duration": 5,
    "start_time": "2022-12-13T17:30:02.336Z"
   },
   {
    "duration": 112,
    "start_time": "2022-12-13T17:30:03.614Z"
   },
   {
    "duration": 1830,
    "start_time": "2022-12-13T17:30:05.306Z"
   },
   {
    "duration": 4,
    "start_time": "2022-12-13T17:30:07.138Z"
   },
   {
    "duration": 9,
    "start_time": "2022-12-13T17:33:41.963Z"
   },
   {
    "duration": 14,
    "start_time": "2022-12-13T17:33:53.013Z"
   },
   {
    "duration": 18,
    "start_time": "2022-12-13T17:34:45.270Z"
   },
   {
    "duration": 1828,
    "start_time": "2022-12-13T17:35:00.936Z"
   },
   {
    "duration": 897,
    "start_time": "2022-12-13T17:36:44.272Z"
   },
   {
    "duration": 17,
    "start_time": "2022-12-13T17:37:05.195Z"
   },
   {
    "duration": 13,
    "start_time": "2022-12-13T17:39:13.016Z"
   },
   {
    "duration": 812,
    "start_time": "2022-12-13T17:39:59.435Z"
   },
   {
    "duration": 18,
    "start_time": "2022-12-13T17:40:23.569Z"
   },
   {
    "duration": 12,
    "start_time": "2022-12-13T17:40:33.205Z"
   },
   {
    "duration": 1289,
    "start_time": "2022-12-13T17:46:13.940Z"
   },
   {
    "duration": 985,
    "start_time": "2022-12-13T17:46:23.394Z"
   },
   {
    "duration": 12151,
    "start_time": "2022-12-13T17:56:32.785Z"
   },
   {
    "duration": 2846,
    "start_time": "2022-12-13T17:56:57.714Z"
   },
   {
    "duration": 6364,
    "start_time": "2022-12-13T17:57:12.169Z"
   },
   {
    "duration": 4,
    "start_time": "2022-12-13T18:01:20.877Z"
   },
   {
    "duration": 740,
    "start_time": "2022-12-13T18:01:22.153Z"
   },
   {
    "duration": 0,
    "start_time": "2022-12-13T18:01:22.895Z"
   },
   {
    "duration": 0,
    "start_time": "2022-12-13T18:01:22.896Z"
   },
   {
    "duration": 0,
    "start_time": "2022-12-13T18:01:22.897Z"
   },
   {
    "duration": 20,
    "start_time": "2022-12-13T18:01:22.925Z"
   },
   {
    "duration": 5,
    "start_time": "2022-12-13T18:01:24.300Z"
   },
   {
    "duration": 5,
    "start_time": "2022-12-13T18:01:25.003Z"
   },
   {
    "duration": 4,
    "start_time": "2022-12-13T18:01:26.677Z"
   },
   {
    "duration": 15,
    "start_time": "2022-12-13T18:01:50.017Z"
   },
   {
    "duration": 4,
    "start_time": "2022-12-13T18:02:31.988Z"
   },
   {
    "duration": 752,
    "start_time": "2022-12-13T18:02:34.228Z"
   },
   {
    "duration": 6,
    "start_time": "2022-12-13T18:02:35.201Z"
   },
   {
    "duration": 6,
    "start_time": "2022-12-13T18:02:47.862Z"
   },
   {
    "duration": 29,
    "start_time": "2022-12-13T18:02:48.028Z"
   },
   {
    "duration": 13,
    "start_time": "2022-12-13T18:02:48.210Z"
   },
   {
    "duration": 16,
    "start_time": "2022-12-13T18:02:48.399Z"
   },
   {
    "duration": 7,
    "start_time": "2022-12-13T18:02:48.783Z"
   },
   {
    "duration": 1620,
    "start_time": "2022-12-13T18:02:48.993Z"
   },
   {
    "duration": 11,
    "start_time": "2022-12-13T18:02:50.982Z"
   },
   {
    "duration": 22,
    "start_time": "2022-12-13T18:02:51.685Z"
   },
   {
    "duration": 7,
    "start_time": "2022-12-13T18:02:53.001Z"
   },
   {
    "duration": 1135,
    "start_time": "2022-12-13T18:02:54.251Z"
   },
   {
    "duration": 11,
    "start_time": "2022-12-13T18:02:55.388Z"
   },
   {
    "duration": 5,
    "start_time": "2022-12-13T18:05:02.759Z"
   },
   {
    "duration": 8,
    "start_time": "2022-12-13T18:05:08.701Z"
   },
   {
    "duration": 7,
    "start_time": "2022-12-13T18:05:10.657Z"
   },
   {
    "duration": 17,
    "start_time": "2022-12-13T18:05:11.680Z"
   },
   {
    "duration": 15,
    "start_time": "2022-12-13T18:05:12.879Z"
   },
   {
    "duration": 16,
    "start_time": "2022-12-13T18:05:14.958Z"
   },
   {
    "duration": 4,
    "start_time": "2022-12-13T18:05:20.332Z"
   },
   {
    "duration": 5,
    "start_time": "2022-12-13T18:05:20.974Z"
   },
   {
    "duration": 4,
    "start_time": "2022-12-13T18:05:21.485Z"
   },
   {
    "duration": 108,
    "start_time": "2022-12-13T18:05:25.593Z"
   },
   {
    "duration": 5525,
    "start_time": "2022-12-13T18:05:35.271Z"
   },
   {
    "duration": 4,
    "start_time": "2022-12-13T18:10:33.951Z"
   },
   {
    "duration": 27,
    "start_time": "2022-12-13T18:10:34.349Z"
   },
   {
    "duration": 12,
    "start_time": "2022-12-13T18:10:34.572Z"
   },
   {
    "duration": 13,
    "start_time": "2022-12-13T18:10:34.791Z"
   },
   {
    "duration": 5,
    "start_time": "2022-12-13T18:10:36.833Z"
   },
   {
    "duration": 1802,
    "start_time": "2022-12-13T18:10:37.366Z"
   },
   {
    "duration": 14,
    "start_time": "2022-12-13T18:10:39.170Z"
   },
   {
    "duration": 25,
    "start_time": "2022-12-13T18:10:39.185Z"
   },
   {
    "duration": 6,
    "start_time": "2022-12-13T18:10:40.248Z"
   },
   {
    "duration": 999,
    "start_time": "2022-12-13T18:10:41.247Z"
   },
   {
    "duration": 11,
    "start_time": "2022-12-13T18:10:42.248Z"
   },
   {
    "duration": 6,
    "start_time": "2022-12-13T18:10:44.523Z"
   },
   {
    "duration": 6,
    "start_time": "2022-12-13T18:10:45.147Z"
   },
   {
    "duration": 14,
    "start_time": "2022-12-13T18:10:45.802Z"
   },
   {
    "duration": 15,
    "start_time": "2022-12-13T18:10:46.515Z"
   },
   {
    "duration": 15,
    "start_time": "2022-12-13T18:10:47.176Z"
   },
   {
    "duration": 4,
    "start_time": "2022-12-13T18:10:50.202Z"
   },
   {
    "duration": 4,
    "start_time": "2022-12-13T18:10:50.762Z"
   },
   {
    "duration": 5,
    "start_time": "2022-12-13T18:10:51.249Z"
   },
   {
    "duration": 106,
    "start_time": "2022-12-13T18:10:52.332Z"
   },
   {
    "duration": 6351,
    "start_time": "2022-12-13T18:10:53.464Z"
   },
   {
    "duration": 16,
    "start_time": "2022-12-13T18:15:47.682Z"
   },
   {
    "duration": 25,
    "start_time": "2022-12-13T18:16:13.243Z"
   },
   {
    "duration": 4,
    "start_time": "2022-12-13T18:16:40.347Z"
   },
   {
    "duration": 23,
    "start_time": "2022-12-13T18:16:45.960Z"
   },
   {
    "duration": 23,
    "start_time": "2022-12-13T18:17:13.321Z"
   },
   {
    "duration": 6463,
    "start_time": "2022-12-13T18:23:40.141Z"
   },
   {
    "duration": 14,
    "start_time": "2022-12-13T18:24:18.206Z"
   },
   {
    "duration": 6446,
    "start_time": "2022-12-13T18:25:07.524Z"
   },
   {
    "duration": 16,
    "start_time": "2022-12-13T18:25:21.715Z"
   },
   {
    "duration": 318,
    "start_time": "2022-12-13T18:26:54.225Z"
   },
   {
    "duration": 6540,
    "start_time": "2022-12-13T18:28:05.266Z"
   },
   {
    "duration": 5402,
    "start_time": "2022-12-13T18:28:45.455Z"
   },
   {
    "duration": 7,
    "start_time": "2022-12-13T19:01:41.286Z"
   },
   {
    "duration": 7,
    "start_time": "2022-12-13T19:01:58.676Z"
   },
   {
    "duration": 9,
    "start_time": "2022-12-13T19:02:34.737Z"
   },
   {
    "duration": 1581,
    "start_time": "2022-12-13T19:24:44.116Z"
   },
   {
    "duration": 1670,
    "start_time": "2022-12-13T19:25:03.125Z"
   },
   {
    "duration": 1314,
    "start_time": "2022-12-13T19:25:34.144Z"
   },
   {
    "duration": 1424,
    "start_time": "2022-12-13T19:25:45.520Z"
   },
   {
    "duration": 1685,
    "start_time": "2022-12-13T19:25:56.848Z"
   },
   {
    "duration": 1706,
    "start_time": "2022-12-13T19:26:31.497Z"
   },
   {
    "duration": 1626,
    "start_time": "2022-12-13T19:27:29.957Z"
   },
   {
    "duration": 10,
    "start_time": "2022-12-13T19:32:33.060Z"
   },
   {
    "duration": 4,
    "start_time": "2022-12-13T19:33:30.013Z"
   },
   {
    "duration": 28,
    "start_time": "2022-12-13T19:33:31.196Z"
   },
   {
    "duration": 12,
    "start_time": "2022-12-13T19:33:31.869Z"
   },
   {
    "duration": 14,
    "start_time": "2022-12-13T19:33:34.714Z"
   },
   {
    "duration": 13,
    "start_time": "2022-12-13T19:35:48.215Z"
   },
   {
    "duration": 3,
    "start_time": "2022-12-13T19:36:55.308Z"
   },
   {
    "duration": 28,
    "start_time": "2022-12-13T19:37:02.137Z"
   },
   {
    "duration": 12,
    "start_time": "2022-12-13T19:37:02.715Z"
   },
   {
    "duration": 13,
    "start_time": "2022-12-13T19:37:03.375Z"
   },
   {
    "duration": 1383,
    "start_time": "2022-12-13T19:37:05.300Z"
   },
   {
    "duration": 21,
    "start_time": "2022-12-13T19:37:07.586Z"
   },
   {
    "duration": 12,
    "start_time": "2022-12-13T19:37:09.740Z"
   },
   {
    "duration": 1209,
    "start_time": "2022-12-13T19:41:39.679Z"
   },
   {
    "duration": 7,
    "start_time": "2022-12-13T19:46:19.295Z"
   },
   {
    "duration": 6,
    "start_time": "2022-12-13T19:46:20.102Z"
   },
   {
    "duration": 18,
    "start_time": "2022-12-13T19:46:20.876Z"
   },
   {
    "duration": 19,
    "start_time": "2022-12-13T19:47:13.570Z"
   },
   {
    "duration": 14,
    "start_time": "2022-12-13T19:47:14.404Z"
   },
   {
    "duration": 101,
    "start_time": "2022-12-13T19:49:16.604Z"
   },
   {
    "duration": 111,
    "start_time": "2022-12-13T19:50:05.151Z"
   },
   {
    "duration": 6379,
    "start_time": "2022-12-13T19:51:19.913Z"
   },
   {
    "duration": 24,
    "start_time": "2022-12-13T19:51:33.694Z"
   },
   {
    "duration": 6336,
    "start_time": "2022-12-13T19:52:16.925Z"
   },
   {
    "duration": 6387,
    "start_time": "2022-12-13T19:52:30.749Z"
   },
   {
    "duration": 49,
    "start_time": "2022-12-13T19:53:38.107Z"
   },
   {
    "duration": 24,
    "start_time": "2022-12-13T19:53:43.526Z"
   },
   {
    "duration": 67,
    "start_time": "2022-12-13T19:57:50.090Z"
   },
   {
    "duration": 83,
    "start_time": "2022-12-13T19:58:10.733Z"
   },
   {
    "duration": 8,
    "start_time": "2022-12-13T20:14:20.011Z"
   },
   {
    "duration": 6,
    "start_time": "2022-12-13T20:14:26.304Z"
   },
   {
    "duration": 9,
    "start_time": "2022-12-13T20:15:40.194Z"
   },
   {
    "duration": 6,
    "start_time": "2022-12-13T20:15:46.263Z"
   },
   {
    "duration": 6,
    "start_time": "2022-12-13T20:18:54.618Z"
   },
   {
    "duration": 104,
    "start_time": "2022-12-13T20:21:37.121Z"
   },
   {
    "duration": 6385,
    "start_time": "2022-12-13T20:22:07.679Z"
   },
   {
    "duration": 22,
    "start_time": "2022-12-13T20:22:15.172Z"
   },
   {
    "duration": 6255,
    "start_time": "2022-12-13T20:22:24.467Z"
   },
   {
    "duration": 22,
    "start_time": "2022-12-13T20:22:30.724Z"
   },
   {
    "duration": 4,
    "start_time": "2022-12-13T20:23:30.790Z"
   },
   {
    "duration": 30,
    "start_time": "2022-12-13T20:23:31.574Z"
   },
   {
    "duration": 13,
    "start_time": "2022-12-13T20:23:32.224Z"
   },
   {
    "duration": 14,
    "start_time": "2022-12-13T20:23:37.071Z"
   },
   {
    "duration": 1779,
    "start_time": "2022-12-13T20:23:44.851Z"
   },
   {
    "duration": 23,
    "start_time": "2022-12-13T20:23:49.781Z"
   },
   {
    "duration": 13,
    "start_time": "2022-12-13T20:23:51.302Z"
   },
   {
    "duration": 10,
    "start_time": "2022-12-13T20:24:26.299Z"
   },
   {
    "duration": 1047,
    "start_time": "2022-12-13T20:24:28.860Z"
   },
   {
    "duration": 14,
    "start_time": "2022-12-13T20:24:29.910Z"
   },
   {
    "duration": 7,
    "start_time": "2022-12-13T20:24:32.281Z"
   },
   {
    "duration": 8,
    "start_time": "2022-12-13T20:24:33.141Z"
   },
   {
    "duration": 16,
    "start_time": "2022-12-13T20:24:34.030Z"
   },
   {
    "duration": 16,
    "start_time": "2022-12-13T20:24:35.652Z"
   },
   {
    "duration": 14,
    "start_time": "2022-12-13T20:24:37.337Z"
   },
   {
    "duration": 6,
    "start_time": "2022-12-13T20:24:46.068Z"
   },
   {
    "duration": 6,
    "start_time": "2022-12-13T20:24:46.639Z"
   },
   {
    "duration": 5,
    "start_time": "2022-12-13T20:24:47.962Z"
   },
   {
    "duration": 135,
    "start_time": "2022-12-13T20:25:01.201Z"
   },
   {
    "duration": 6671,
    "start_time": "2022-12-13T20:25:12.734Z"
   },
   {
    "duration": 6887,
    "start_time": "2022-12-13T20:25:27.737Z"
   },
   {
    "duration": 25,
    "start_time": "2022-12-13T20:25:34.626Z"
   },
   {
    "duration": 63,
    "start_time": "2022-12-13T20:25:47.652Z"
   },
   {
    "duration": 7,
    "start_time": "2022-12-13T20:26:05.147Z"
   },
   {
    "duration": 26,
    "start_time": "2022-12-13T20:27:06.996Z"
   },
   {
    "duration": 8,
    "start_time": "2022-12-13T20:27:32.165Z"
   },
   {
    "duration": 4,
    "start_time": "2022-12-13T20:27:38.875Z"
   },
   {
    "duration": 10,
    "start_time": "2022-12-13T20:31:49.522Z"
   },
   {
    "duration": 16,
    "start_time": "2022-12-13T20:32:02.276Z"
   },
   {
    "duration": 21,
    "start_time": "2022-12-13T20:32:10.773Z"
   },
   {
    "duration": 20,
    "start_time": "2022-12-13T20:32:19.887Z"
   },
   {
    "duration": 13,
    "start_time": "2022-12-13T20:32:31.884Z"
   },
   {
    "duration": 7,
    "start_time": "2022-12-13T20:34:03.146Z"
   },
   {
    "duration": 1132,
    "start_time": "2022-12-13T20:34:04.912Z"
   },
   {
    "duration": 11,
    "start_time": "2022-12-13T20:34:06.046Z"
   },
   {
    "duration": 6,
    "start_time": "2022-12-13T20:34:10.472Z"
   },
   {
    "duration": 9,
    "start_time": "2022-12-13T20:34:10.480Z"
   },
   {
    "duration": 14,
    "start_time": "2022-12-13T20:34:10.632Z"
   },
   {
    "duration": 13,
    "start_time": "2022-12-13T20:34:10.787Z"
   },
   {
    "duration": 16,
    "start_time": "2022-12-13T20:34:10.997Z"
   },
   {
    "duration": 5,
    "start_time": "2022-12-13T20:34:11.606Z"
   },
   {
    "duration": 4,
    "start_time": "2022-12-13T20:34:11.913Z"
   },
   {
    "duration": 4,
    "start_time": "2022-12-13T20:34:12.294Z"
   },
   {
    "duration": 103,
    "start_time": "2022-12-13T20:34:14.940Z"
   },
   {
    "duration": 6237,
    "start_time": "2022-12-13T20:34:18.158Z"
   },
   {
    "duration": 40,
    "start_time": "2022-12-13T20:34:29.695Z"
   },
   {
    "duration": 57,
    "start_time": "2022-12-13T20:34:35.466Z"
   },
   {
    "duration": 8,
    "start_time": "2022-12-13T20:34:43.752Z"
   },
   {
    "duration": 9,
    "start_time": "2022-12-13T20:41:15.153Z"
   },
   {
    "duration": 4,
    "start_time": "2022-12-13T20:41:20.561Z"
   },
   {
    "duration": 28,
    "start_time": "2022-12-13T20:41:21.123Z"
   },
   {
    "duration": 11,
    "start_time": "2022-12-13T20:41:21.519Z"
   },
   {
    "duration": 13,
    "start_time": "2022-12-13T20:41:22.001Z"
   },
   {
    "duration": 1647,
    "start_time": "2022-12-13T20:41:23.337Z"
   },
   {
    "duration": 21,
    "start_time": "2022-12-13T20:41:25.746Z"
   },
   {
    "duration": 22,
    "start_time": "2022-12-13T20:41:52.923Z"
   },
   {
    "duration": 14,
    "start_time": "2022-12-13T20:42:04.810Z"
   },
   {
    "duration": 8,
    "start_time": "2022-12-13T20:44:59.045Z"
   },
   {
    "duration": 1011,
    "start_time": "2022-12-13T20:45:06.450Z"
   },
   {
    "duration": 12,
    "start_time": "2022-12-13T20:45:08.696Z"
   },
   {
    "duration": 6,
    "start_time": "2022-12-13T20:45:58.806Z"
   },
   {
    "duration": 7,
    "start_time": "2022-12-13T20:45:59.370Z"
   },
   {
    "duration": 16,
    "start_time": "2022-12-13T20:45:59.876Z"
   },
   {
    "duration": 16,
    "start_time": "2022-12-13T20:46:00.620Z"
   },
   {
    "duration": 15,
    "start_time": "2022-12-13T20:46:01.377Z"
   },
   {
    "duration": 4,
    "start_time": "2022-12-13T20:46:04.963Z"
   },
   {
    "duration": 4,
    "start_time": "2022-12-13T20:46:05.566Z"
   },
   {
    "duration": 4,
    "start_time": "2022-12-13T20:46:06.209Z"
   },
   {
    "duration": 102,
    "start_time": "2022-12-13T20:46:07.702Z"
   },
   {
    "duration": 6164,
    "start_time": "2022-12-13T20:46:24.100Z"
   },
   {
    "duration": 37,
    "start_time": "2022-12-13T20:46:48.686Z"
   },
   {
    "duration": 14,
    "start_time": "2022-12-13T20:47:41.573Z"
   },
   {
    "duration": 4,
    "start_time": "2022-12-13T20:47:47.354Z"
   },
   {
    "duration": 7,
    "start_time": "2022-12-13T20:47:49.792Z"
   },
   {
    "duration": 6,
    "start_time": "2022-12-13T20:47:50.370Z"
   },
   {
    "duration": 18,
    "start_time": "2022-12-13T20:47:50.946Z"
   },
   {
    "duration": 14,
    "start_time": "2022-12-13T20:47:51.583Z"
   },
   {
    "duration": 14,
    "start_time": "2022-12-13T20:47:52.165Z"
   },
   {
    "duration": 5,
    "start_time": "2022-12-13T20:47:54.471Z"
   },
   {
    "duration": 4,
    "start_time": "2022-12-13T20:47:55.112Z"
   },
   {
    "duration": 4,
    "start_time": "2022-12-13T20:47:55.798Z"
   },
   {
    "duration": 98,
    "start_time": "2022-12-13T20:47:57.611Z"
   },
   {
    "duration": 5086,
    "start_time": "2022-12-13T20:48:01.869Z"
   },
   {
    "duration": 29,
    "start_time": "2022-12-13T20:48:11.348Z"
   },
   {
    "duration": 4,
    "start_time": "2022-12-13T20:48:28.775Z"
   },
   {
    "duration": 29,
    "start_time": "2022-12-13T20:48:28.952Z"
   },
   {
    "duration": 13,
    "start_time": "2022-12-13T20:48:29.083Z"
   },
   {
    "duration": 12,
    "start_time": "2022-12-13T20:48:29.258Z"
   },
   {
    "duration": 1649,
    "start_time": "2022-12-13T20:48:29.903Z"
   },
   {
    "duration": 30,
    "start_time": "2022-12-13T20:48:31.555Z"
   },
   {
    "duration": 15,
    "start_time": "2022-12-13T20:48:31.588Z"
   },
   {
    "duration": 13,
    "start_time": "2022-12-13T20:48:31.606Z"
   },
   {
    "duration": 1189,
    "start_time": "2022-12-13T20:48:31.620Z"
   },
   {
    "duration": 13,
    "start_time": "2022-12-13T20:48:32.812Z"
   },
   {
    "duration": 4,
    "start_time": "2022-12-13T20:48:32.828Z"
   },
   {
    "duration": 10,
    "start_time": "2022-12-13T20:48:32.833Z"
   },
   {
    "duration": 6,
    "start_time": "2022-12-13T20:48:32.844Z"
   },
   {
    "duration": 15,
    "start_time": "2022-12-13T20:48:32.878Z"
   },
   {
    "duration": 14,
    "start_time": "2022-12-13T20:48:32.947Z"
   },
   {
    "duration": 14,
    "start_time": "2022-12-13T20:48:33.142Z"
   },
   {
    "duration": 4,
    "start_time": "2022-12-13T20:48:33.869Z"
   },
   {
    "duration": 4,
    "start_time": "2022-12-13T20:48:34.066Z"
   },
   {
    "duration": 4,
    "start_time": "2022-12-13T20:48:34.274Z"
   },
   {
    "duration": 93,
    "start_time": "2022-12-13T20:48:34.629Z"
   },
   {
    "duration": 5299,
    "start_time": "2022-12-13T20:48:35.025Z"
   },
   {
    "duration": 9,
    "start_time": "2022-12-13T20:49:08.363Z"
   },
   {
    "duration": 14,
    "start_time": "2022-12-13T20:49:10.495Z"
   },
   {
    "duration": 13,
    "start_time": "2022-12-13T20:49:10.643Z"
   },
   {
    "duration": 7,
    "start_time": "2022-12-13T20:49:11.379Z"
   },
   {
    "duration": 6,
    "start_time": "2022-12-13T20:49:11.600Z"
   },
   {
    "duration": 3,
    "start_time": "2022-12-13T20:49:20.547Z"
   },
   {
    "duration": 28,
    "start_time": "2022-12-13T20:49:20.826Z"
   },
   {
    "duration": 12,
    "start_time": "2022-12-13T20:49:21.126Z"
   },
   {
    "duration": 14,
    "start_time": "2022-12-13T20:49:21.447Z"
   },
   {
    "duration": 1425,
    "start_time": "2022-12-13T20:49:22.595Z"
   },
   {
    "duration": 23,
    "start_time": "2022-12-13T20:49:24.038Z"
   },
   {
    "duration": 11,
    "start_time": "2022-12-13T20:49:24.680Z"
   },
   {
    "duration": 7,
    "start_time": "2022-12-13T20:49:25.989Z"
   },
   {
    "duration": 1241,
    "start_time": "2022-12-13T20:49:27.932Z"
   },
   {
    "duration": 11,
    "start_time": "2022-12-13T20:49:29.467Z"
   },
   {
    "duration": 7,
    "start_time": "2022-12-13T20:49:32.425Z"
   },
   {
    "duration": 6,
    "start_time": "2022-12-13T20:49:33.017Z"
   },
   {
    "duration": 13,
    "start_time": "2022-12-13T20:49:33.638Z"
   },
   {
    "duration": 14,
    "start_time": "2022-12-13T20:49:34.246Z"
   },
   {
    "duration": 13,
    "start_time": "2022-12-13T20:49:34.764Z"
   },
   {
    "duration": 4,
    "start_time": "2022-12-13T20:49:37.210Z"
   },
   {
    "duration": 4,
    "start_time": "2022-12-13T20:49:37.823Z"
   },
   {
    "duration": 4,
    "start_time": "2022-12-13T20:49:38.432Z"
   },
   {
    "duration": 113,
    "start_time": "2022-12-13T20:49:39.769Z"
   },
   {
    "duration": 6385,
    "start_time": "2022-12-13T20:49:48.274Z"
   },
   {
    "duration": 22,
    "start_time": "2022-12-13T20:50:01.700Z"
   },
   {
    "duration": 12,
    "start_time": "2022-12-13T20:50:28.207Z"
   },
   {
    "duration": 10,
    "start_time": "2022-12-13T20:50:44.386Z"
   },
   {
    "duration": 4,
    "start_time": "2022-12-13T20:51:01.373Z"
   },
   {
    "duration": 28,
    "start_time": "2022-12-13T20:51:02.097Z"
   },
   {
    "duration": 12,
    "start_time": "2022-12-13T20:51:02.520Z"
   },
   {
    "duration": 13,
    "start_time": "2022-12-13T20:51:03.124Z"
   },
   {
    "duration": 1704,
    "start_time": "2022-12-13T20:51:04.721Z"
   },
   {
    "duration": 22,
    "start_time": "2022-12-13T20:51:06.428Z"
   },
   {
    "duration": 7,
    "start_time": "2022-12-13T20:51:07.853Z"
   },
   {
    "duration": 1012,
    "start_time": "2022-12-13T20:51:11.711Z"
   },
   {
    "duration": 11,
    "start_time": "2022-12-13T20:51:12.839Z"
   },
   {
    "duration": 7,
    "start_time": "2022-12-13T20:51:15.647Z"
   },
   {
    "duration": 7,
    "start_time": "2022-12-13T20:51:17.100Z"
   },
   {
    "duration": 14,
    "start_time": "2022-12-13T20:51:18.740Z"
   },
   {
    "duration": 13,
    "start_time": "2022-12-13T20:51:19.314Z"
   },
   {
    "duration": 13,
    "start_time": "2022-12-13T20:51:20.113Z"
   },
   {
    "duration": 4,
    "start_time": "2022-12-13T20:51:23.326Z"
   },
   {
    "duration": 5,
    "start_time": "2022-12-13T20:51:23.928Z"
   },
   {
    "duration": 5,
    "start_time": "2022-12-13T20:51:24.541Z"
   },
   {
    "duration": 114,
    "start_time": "2022-12-13T20:51:26.061Z"
   },
   {
    "duration": 6466,
    "start_time": "2022-12-13T20:51:30.513Z"
   },
   {
    "duration": 23,
    "start_time": "2022-12-13T20:51:40.345Z"
   },
   {
    "duration": 58,
    "start_time": "2022-12-13T20:51:43.914Z"
   },
   {
    "duration": 9,
    "start_time": "2022-12-13T20:53:52.595Z"
   },
   {
    "duration": 1145,
    "start_time": "2022-12-13T20:53:53.606Z"
   },
   {
    "duration": 11,
    "start_time": "2022-12-13T20:53:54.753Z"
   },
   {
    "duration": 6,
    "start_time": "2022-12-13T20:53:54.778Z"
   },
   {
    "duration": 5,
    "start_time": "2022-12-13T20:53:54.786Z"
   },
   {
    "duration": 15,
    "start_time": "2022-12-13T20:53:54.840Z"
   },
   {
    "duration": 15,
    "start_time": "2022-12-13T20:53:54.939Z"
   },
   {
    "duration": 16,
    "start_time": "2022-12-13T20:53:55.059Z"
   },
   {
    "duration": 5,
    "start_time": "2022-12-13T20:53:55.773Z"
   },
   {
    "duration": 5,
    "start_time": "2022-12-13T20:53:55.971Z"
   },
   {
    "duration": 4,
    "start_time": "2022-12-13T20:53:56.150Z"
   },
   {
    "duration": 102,
    "start_time": "2022-12-13T20:53:56.498Z"
   },
   {
    "duration": 6227,
    "start_time": "2022-12-13T20:53:56.843Z"
   },
   {
    "duration": 38,
    "start_time": "2022-12-13T20:54:03.072Z"
   },
   {
    "duration": 71,
    "start_time": "2022-12-13T20:54:03.111Z"
   },
   {
    "duration": 8,
    "start_time": "2022-12-13T20:54:03.184Z"
   },
   {
    "duration": 11,
    "start_time": "2022-12-13T20:56:12.729Z"
   },
   {
    "duration": 3,
    "start_time": "2022-12-13T20:56:59.992Z"
   },
   {
    "duration": 29,
    "start_time": "2022-12-13T20:57:00.809Z"
   },
   {
    "duration": 15,
    "start_time": "2022-12-13T20:57:01.021Z"
   },
   {
    "duration": 13,
    "start_time": "2022-12-13T20:57:01.415Z"
   },
   {
    "duration": 1562,
    "start_time": "2022-12-13T20:57:03.401Z"
   },
   {
    "duration": 22,
    "start_time": "2022-12-13T20:57:05.243Z"
   },
   {
    "duration": 12,
    "start_time": "2022-12-13T20:57:06.524Z"
   },
   {
    "duration": 7,
    "start_time": "2022-12-13T20:57:15.493Z"
   },
   {
    "duration": 1013,
    "start_time": "2022-12-13T20:57:23.370Z"
   },
   {
    "duration": 13,
    "start_time": "2022-12-13T20:57:28.057Z"
   },
   {
    "duration": 6,
    "start_time": "2022-12-13T20:57:39.203Z"
   },
   {
    "duration": 6,
    "start_time": "2022-12-13T20:57:40.163Z"
   },
   {
    "duration": 14,
    "start_time": "2022-12-13T20:57:40.659Z"
   },
   {
    "duration": 14,
    "start_time": "2022-12-13T20:57:41.766Z"
   },
   {
    "duration": 14,
    "start_time": "2022-12-13T20:57:44.404Z"
   },
   {
    "duration": 4,
    "start_time": "2022-12-13T20:57:55.506Z"
   },
   {
    "duration": 4,
    "start_time": "2022-12-13T20:57:56.158Z"
   },
   {
    "duration": 4,
    "start_time": "2022-12-13T20:57:56.795Z"
   },
   {
    "duration": 98,
    "start_time": "2022-12-13T20:57:58.742Z"
   },
   {
    "duration": 6086,
    "start_time": "2022-12-13T20:58:03.586Z"
   },
   {
    "duration": 6093,
    "start_time": "2022-12-13T20:58:30.104Z"
   },
   {
    "duration": 2821,
    "start_time": "2022-12-13T20:58:43.420Z"
   },
   {
    "duration": 38,
    "start_time": "2022-12-13T20:58:54.819Z"
   },
   {
    "duration": 75,
    "start_time": "2022-12-13T21:00:01.884Z"
   },
   {
    "duration": 6,
    "start_time": "2022-12-13T21:00:24.588Z"
   },
   {
    "duration": 10,
    "start_time": "2022-12-13T21:01:03.054Z"
   },
   {
    "duration": 7,
    "start_time": "2022-12-13T21:01:12.723Z"
   },
   {
    "duration": 7,
    "start_time": "2022-12-13T21:01:27.295Z"
   },
   {
    "duration": 1291,
    "start_time": "2022-12-13T21:01:30.464Z"
   },
   {
    "duration": 24,
    "start_time": "2022-12-13T21:01:31.758Z"
   },
   {
    "duration": 6,
    "start_time": "2022-12-13T21:01:42.854Z"
   },
   {
    "duration": 7,
    "start_time": "2022-12-13T21:01:43.257Z"
   },
   {
    "duration": 16,
    "start_time": "2022-12-13T21:01:43.433Z"
   },
   {
    "duration": 16,
    "start_time": "2022-12-13T21:01:43.586Z"
   },
   {
    "duration": 16,
    "start_time": "2022-12-13T21:01:43.774Z"
   },
   {
    "duration": 5,
    "start_time": "2022-12-13T21:01:44.517Z"
   },
   {
    "duration": 5,
    "start_time": "2022-12-13T21:01:44.696Z"
   },
   {
    "duration": 5,
    "start_time": "2022-12-13T21:01:44.890Z"
   },
   {
    "duration": 120,
    "start_time": "2022-12-13T21:01:45.292Z"
   },
   {
    "duration": 3196,
    "start_time": "2022-12-13T21:01:45.638Z"
   },
   {
    "duration": 48,
    "start_time": "2022-12-13T21:01:48.836Z"
   },
   {
    "duration": 71,
    "start_time": "2022-12-13T21:01:48.886Z"
   },
   {
    "duration": 8,
    "start_time": "2022-12-13T21:01:51.437Z"
   },
   {
    "duration": 4,
    "start_time": "2022-12-13T21:02:06.463Z"
   },
   {
    "duration": 28,
    "start_time": "2022-12-13T21:02:06.902Z"
   },
   {
    "duration": 12,
    "start_time": "2022-12-13T21:02:07.200Z"
   },
   {
    "duration": 14,
    "start_time": "2022-12-13T21:02:07.418Z"
   },
   {
    "duration": 1905,
    "start_time": "2022-12-13T21:02:08.103Z"
   },
   {
    "duration": 23,
    "start_time": "2022-12-13T21:02:10.011Z"
   },
   {
    "duration": 63,
    "start_time": "2022-12-13T21:02:10.036Z"
   },
   {
    "duration": 1225,
    "start_time": "2022-12-13T21:02:10.102Z"
   },
   {
    "duration": 13,
    "start_time": "2022-12-13T21:02:11.329Z"
   },
   {
    "duration": 75,
    "start_time": "2022-12-13T21:02:11.345Z"
   },
   {
    "duration": 111,
    "start_time": "2022-12-13T21:02:11.422Z"
   },
   {
    "duration": 52,
    "start_time": "2022-12-13T21:02:11.535Z"
   },
   {
    "duration": 53,
    "start_time": "2022-12-13T21:02:11.589Z"
   },
   {
    "duration": 61,
    "start_time": "2022-12-13T21:02:11.644Z"
   },
   {
    "duration": 4,
    "start_time": "2022-12-13T21:02:12.480Z"
   },
   {
    "duration": 5,
    "start_time": "2022-12-13T21:02:12.720Z"
   },
   {
    "duration": 5,
    "start_time": "2022-12-13T21:02:12.988Z"
   },
   {
    "duration": 124,
    "start_time": "2022-12-13T21:02:13.444Z"
   },
   {
    "duration": 3015,
    "start_time": "2022-12-13T21:02:15.442Z"
   },
   {
    "duration": 6676,
    "start_time": "2022-12-13T21:02:25.516Z"
   },
   {
    "duration": 25,
    "start_time": "2022-12-13T21:02:41.453Z"
   },
   {
    "duration": 63,
    "start_time": "2022-12-13T21:02:43.959Z"
   },
   {
    "duration": 6,
    "start_time": "2022-12-13T21:03:06.207Z"
   },
   {
    "duration": 1483,
    "start_time": "2022-12-14T08:24:20.954Z"
   },
   {
    "duration": 78,
    "start_time": "2022-12-14T08:24:22.909Z"
   },
   {
    "duration": 15,
    "start_time": "2022-12-14T08:24:23.761Z"
   },
   {
    "duration": 14,
    "start_time": "2022-12-14T08:24:25.952Z"
   },
   {
    "duration": 32,
    "start_time": "2022-12-14T08:26:05.976Z"
   },
   {
    "duration": 5,
    "start_time": "2022-12-14T08:26:11.469Z"
   },
   {
    "duration": 46,
    "start_time": "2022-12-14T08:28:54.554Z"
   },
   {
    "duration": 3,
    "start_time": "2022-12-14T08:28:59.832Z"
   },
   {
    "duration": 30,
    "start_time": "2022-12-14T08:29:00.737Z"
   },
   {
    "duration": 10,
    "start_time": "2022-12-14T08:29:01.338Z"
   },
   {
    "duration": 13,
    "start_time": "2022-12-14T08:29:01.902Z"
   },
   {
    "duration": 1478,
    "start_time": "2022-12-14T08:29:03.726Z"
   },
   {
    "duration": 48,
    "start_time": "2022-12-14T08:29:13.197Z"
   },
   {
    "duration": 4,
    "start_time": "2022-12-14T08:29:45.619Z"
   },
   {
    "duration": 31,
    "start_time": "2022-12-14T08:29:46.302Z"
   },
   {
    "duration": 14,
    "start_time": "2022-12-14T08:29:46.907Z"
   },
   {
    "duration": 15,
    "start_time": "2022-12-14T08:29:47.471Z"
   },
   {
    "duration": 1311,
    "start_time": "2022-12-14T08:29:49.664Z"
   },
   {
    "duration": 38,
    "start_time": "2022-12-14T08:29:51.711Z"
   },
   {
    "duration": 19,
    "start_time": "2022-12-14T08:30:08.015Z"
   },
   {
    "duration": 21,
    "start_time": "2022-12-14T08:30:24.439Z"
   },
   {
    "duration": 11,
    "start_time": "2022-12-14T08:30:54.526Z"
   },
   {
    "duration": 7,
    "start_time": "2022-12-14T08:33:28.915Z"
   },
   {
    "duration": 1091,
    "start_time": "2022-12-14T08:33:32.479Z"
   },
   {
    "duration": 10,
    "start_time": "2022-12-14T08:33:33.950Z"
   },
   {
    "duration": 6,
    "start_time": "2022-12-14T08:34:33.665Z"
   },
   {
    "duration": 6,
    "start_time": "2022-12-14T08:34:35.045Z"
   },
   {
    "duration": 14,
    "start_time": "2022-12-14T08:34:36.324Z"
   },
   {
    "duration": 12,
    "start_time": "2022-12-14T08:34:37.655Z"
   },
   {
    "duration": 13,
    "start_time": "2022-12-14T08:34:38.502Z"
   },
   {
    "duration": 4,
    "start_time": "2022-12-14T08:34:42.146Z"
   },
   {
    "duration": 4,
    "start_time": "2022-12-14T08:34:42.913Z"
   },
   {
    "duration": 3,
    "start_time": "2022-12-14T08:34:43.691Z"
   },
   {
    "duration": 106,
    "start_time": "2022-12-14T08:34:46.803Z"
   },
   {
    "duration": 5808,
    "start_time": "2022-12-14T08:34:49.875Z"
   },
   {
    "duration": 23142,
    "start_time": "2022-12-14T08:35:06.555Z"
   },
   {
    "duration": 2546,
    "start_time": "2022-12-14T08:35:40.098Z"
   },
   {
    "duration": 35,
    "start_time": "2022-12-14T08:35:49.704Z"
   },
   {
    "duration": 53,
    "start_time": "2022-12-14T08:36:09.257Z"
   },
   {
    "duration": 64,
    "start_time": "2022-12-14T08:36:23.941Z"
   },
   {
    "duration": 7,
    "start_time": "2022-12-14T08:37:41.456Z"
   },
   {
    "duration": 3,
    "start_time": "2022-12-14T08:58:59.177Z"
   },
   {
    "duration": 28,
    "start_time": "2022-12-14T08:58:59.412Z"
   },
   {
    "duration": 10,
    "start_time": "2022-12-14T08:58:59.626Z"
   },
   {
    "duration": 11,
    "start_time": "2022-12-14T08:59:00.059Z"
   },
   {
    "duration": 1465,
    "start_time": "2022-12-14T08:59:00.639Z"
   },
   {
    "duration": 20,
    "start_time": "2022-12-14T08:59:02.106Z"
   },
   {
    "duration": 34,
    "start_time": "2022-12-14T08:59:02.127Z"
   },
   {
    "duration": 12,
    "start_time": "2022-12-14T08:59:02.164Z"
   },
   {
    "duration": 918,
    "start_time": "2022-12-14T08:59:02.177Z"
   },
   {
    "duration": 10,
    "start_time": "2022-12-14T08:59:03.104Z"
   },
   {
    "duration": 8,
    "start_time": "2022-12-14T08:59:04.342Z"
   },
   {
    "duration": 8,
    "start_time": "2022-12-14T08:59:04.918Z"
   },
   {
    "duration": 17,
    "start_time": "2022-12-14T08:59:05.424Z"
   },
   {
    "duration": 12,
    "start_time": "2022-12-14T08:59:06.068Z"
   },
   {
    "duration": 12,
    "start_time": "2022-12-14T08:59:06.708Z"
   },
   {
    "duration": 3,
    "start_time": "2022-12-14T08:59:09.090Z"
   },
   {
    "duration": 5,
    "start_time": "2022-12-14T08:59:09.741Z"
   },
   {
    "duration": 4,
    "start_time": "2022-12-14T08:59:10.347Z"
   },
   {
    "duration": 111,
    "start_time": "2022-12-14T08:59:12.010Z"
   },
   {
    "duration": 2881,
    "start_time": "2022-12-14T08:59:16.801Z"
   },
   {
    "duration": 55,
    "start_time": "2022-12-14T08:59:24.519Z"
   },
   {
    "duration": 62,
    "start_time": "2022-12-14T08:59:29.664Z"
   },
   {
    "duration": 85,
    "start_time": "2022-12-14T08:59:48.070Z"
   },
   {
    "duration": 64,
    "start_time": "2022-12-14T09:00:06.426Z"
   },
   {
    "duration": 7,
    "start_time": "2022-12-14T09:00:15.169Z"
   },
   {
    "duration": 4,
    "start_time": "2022-12-14T09:01:00.360Z"
   },
   {
    "duration": 29,
    "start_time": "2022-12-14T09:01:00.564Z"
   },
   {
    "duration": 10,
    "start_time": "2022-12-14T09:01:00.777Z"
   },
   {
    "duration": 12,
    "start_time": "2022-12-14T09:01:00.976Z"
   },
   {
    "duration": 1395,
    "start_time": "2022-12-14T09:01:01.579Z"
   },
   {
    "duration": 33,
    "start_time": "2022-12-14T09:01:02.976Z"
   },
   {
    "duration": 16,
    "start_time": "2022-12-14T09:01:03.011Z"
   },
   {
    "duration": 9,
    "start_time": "2022-12-14T09:01:03.028Z"
   },
   {
    "duration": 1238,
    "start_time": "2022-12-14T09:01:03.292Z"
   },
   {
    "duration": 11,
    "start_time": "2022-12-14T09:01:04.532Z"
   },
   {
    "duration": 7,
    "start_time": "2022-12-14T09:01:04.545Z"
   },
   {
    "duration": 8,
    "start_time": "2022-12-14T09:01:04.554Z"
   },
   {
    "duration": 19,
    "start_time": "2022-12-14T09:01:04.564Z"
   },
   {
    "duration": 13,
    "start_time": "2022-12-14T09:01:04.742Z"
   },
   {
    "duration": 19,
    "start_time": "2022-12-14T09:01:04.922Z"
   },
   {
    "duration": 5,
    "start_time": "2022-12-14T09:01:05.637Z"
   },
   {
    "duration": 4,
    "start_time": "2022-12-14T09:01:05.824Z"
   },
   {
    "duration": 4,
    "start_time": "2022-12-14T09:01:06.018Z"
   },
   {
    "duration": 110,
    "start_time": "2022-12-14T09:01:06.364Z"
   },
   {
    "duration": 2807,
    "start_time": "2022-12-14T09:01:06.714Z"
   },
   {
    "duration": 33,
    "start_time": "2022-12-14T09:01:09.523Z"
   },
   {
    "duration": 74,
    "start_time": "2022-12-14T09:01:09.557Z"
   },
   {
    "duration": 7,
    "start_time": "2022-12-14T09:01:09.632Z"
   },
   {
    "duration": 92,
    "start_time": "2022-12-14T09:04:01.713Z"
   },
   {
    "duration": 2396,
    "start_time": "2022-12-14T09:29:57.100Z"
   },
   {
    "duration": 30,
    "start_time": "2022-12-14T09:29:59.498Z"
   },
   {
    "duration": 13,
    "start_time": "2022-12-14T09:29:59.529Z"
   },
   {
    "duration": 21,
    "start_time": "2022-12-14T09:29:59.544Z"
   },
   {
    "duration": 1568,
    "start_time": "2022-12-14T09:29:59.567Z"
   },
   {
    "duration": 23,
    "start_time": "2022-12-14T09:30:01.137Z"
   },
   {
    "duration": 12,
    "start_time": "2022-12-14T09:30:01.161Z"
   },
   {
    "duration": 30,
    "start_time": "2022-12-14T09:30:01.175Z"
   },
   {
    "duration": 1105,
    "start_time": "2022-12-14T09:30:01.207Z"
   },
   {
    "duration": 10,
    "start_time": "2022-12-14T09:30:02.315Z"
   },
   {
    "duration": 17,
    "start_time": "2022-12-14T09:30:02.327Z"
   },
   {
    "duration": 17,
    "start_time": "2022-12-14T09:30:02.346Z"
   },
   {
    "duration": 17,
    "start_time": "2022-12-14T09:30:02.364Z"
   },
   {
    "duration": 18,
    "start_time": "2022-12-14T09:30:02.382Z"
   },
   {
    "duration": 22,
    "start_time": "2022-12-14T09:30:02.401Z"
   },
   {
    "duration": 9,
    "start_time": "2022-12-14T09:30:02.425Z"
   },
   {
    "duration": 7,
    "start_time": "2022-12-14T09:30:02.436Z"
   },
   {
    "duration": 10,
    "start_time": "2022-12-14T09:30:02.444Z"
   },
   {
    "duration": 129,
    "start_time": "2022-12-14T09:30:02.456Z"
   },
   {
    "duration": 2765,
    "start_time": "2022-12-14T09:30:02.587Z"
   },
   {
    "duration": 33,
    "start_time": "2022-12-14T09:30:05.353Z"
   },
   {
    "duration": 81,
    "start_time": "2022-12-14T09:30:05.388Z"
   },
   {
    "duration": 5,
    "start_time": "2022-12-14T09:30:05.471Z"
   },
   {
    "duration": 1685,
    "start_time": "2022-12-15T09:01:48.409Z"
   },
   {
    "duration": 131,
    "start_time": "2022-12-15T09:01:50.097Z"
   },
   {
    "duration": 13,
    "start_time": "2022-12-15T09:01:50.262Z"
   },
   {
    "duration": 17,
    "start_time": "2022-12-15T09:01:50.809Z"
   },
   {
    "duration": 1582,
    "start_time": "2022-12-15T09:01:52.490Z"
   },
   {
    "duration": 25,
    "start_time": "2022-12-15T09:01:54.074Z"
   },
   {
    "duration": 13,
    "start_time": "2022-12-15T09:01:54.252Z"
   },
   {
    "duration": 8,
    "start_time": "2022-12-15T09:01:55.363Z"
   },
   {
    "duration": 1090,
    "start_time": "2022-12-15T09:01:57.090Z"
   },
   {
    "duration": 12,
    "start_time": "2022-12-15T09:01:58.182Z"
   },
   {
    "duration": 8,
    "start_time": "2022-12-15T09:02:01.227Z"
   },
   {
    "duration": 6,
    "start_time": "2022-12-15T09:02:01.827Z"
   },
   {
    "duration": 16,
    "start_time": "2022-12-15T09:02:02.516Z"
   },
   {
    "duration": 15,
    "start_time": "2022-12-15T09:02:03.309Z"
   },
   {
    "duration": 15,
    "start_time": "2022-12-15T09:02:04.061Z"
   },
   {
    "duration": 5,
    "start_time": "2022-12-15T09:02:07.283Z"
   },
   {
    "duration": 4,
    "start_time": "2022-12-15T09:02:08.102Z"
   },
   {
    "duration": 4,
    "start_time": "2022-12-15T09:02:08.839Z"
   },
   {
    "duration": 112,
    "start_time": "2022-12-15T09:02:10.478Z"
   },
   {
    "duration": 1499,
    "start_time": "2022-12-15T11:13:26.771Z"
   },
   {
    "duration": 180,
    "start_time": "2022-12-15T11:13:28.272Z"
   },
   {
    "duration": 13,
    "start_time": "2022-12-15T11:13:28.454Z"
   },
   {
    "duration": 19,
    "start_time": "2022-12-15T11:13:28.469Z"
   },
   {
    "duration": 1557,
    "start_time": "2022-12-15T11:13:28.489Z"
   },
   {
    "duration": 23,
    "start_time": "2022-12-15T11:13:30.048Z"
   },
   {
    "duration": 11,
    "start_time": "2022-12-15T11:13:30.073Z"
   },
   {
    "duration": 27,
    "start_time": "2022-12-15T11:13:30.086Z"
   },
   {
    "duration": 1085,
    "start_time": "2022-12-15T11:13:30.999Z"
   },
   {
    "duration": 11,
    "start_time": "2022-12-15T11:13:32.086Z"
   },
   {
    "duration": 6,
    "start_time": "2022-12-15T11:13:34.419Z"
   },
   {
    "duration": 5,
    "start_time": "2022-12-15T11:13:35.096Z"
   },
   {
    "duration": 14,
    "start_time": "2022-12-15T11:13:35.573Z"
   },
   {
    "duration": 14,
    "start_time": "2022-12-15T11:13:36.196Z"
   },
   {
    "duration": 14,
    "start_time": "2022-12-15T11:13:36.861Z"
   },
   {
    "duration": 4,
    "start_time": "2022-12-15T11:13:41.441Z"
   },
   {
    "duration": 4,
    "start_time": "2022-12-15T11:13:41.961Z"
   },
   {
    "duration": 4,
    "start_time": "2022-12-15T11:13:42.464Z"
   },
   {
    "duration": 103,
    "start_time": "2022-12-15T11:13:45.789Z"
   },
   {
    "duration": 2771,
    "start_time": "2022-12-15T11:15:32.965Z"
   },
   {
    "duration": 4,
    "start_time": "2022-12-15T11:16:07.874Z"
   },
   {
    "duration": 29,
    "start_time": "2022-12-15T11:16:09.276Z"
   },
   {
    "duration": 12,
    "start_time": "2022-12-15T11:16:09.999Z"
   },
   {
    "duration": 13,
    "start_time": "2022-12-15T11:16:10.595Z"
   },
   {
    "duration": 1609,
    "start_time": "2022-12-15T11:16:13.125Z"
   },
   {
    "duration": 21,
    "start_time": "2022-12-15T11:16:15.258Z"
   },
   {
    "duration": 12,
    "start_time": "2022-12-15T11:16:16.275Z"
   },
   {
    "duration": 8,
    "start_time": "2022-12-15T11:16:21.712Z"
   },
   {
    "duration": 1082,
    "start_time": "2022-12-15T11:16:25.068Z"
   },
   {
    "duration": 11,
    "start_time": "2022-12-15T11:16:26.152Z"
   },
   {
    "duration": 6,
    "start_time": "2022-12-15T11:16:30.374Z"
   },
   {
    "duration": 6,
    "start_time": "2022-12-15T11:16:31.005Z"
   },
   {
    "duration": 14,
    "start_time": "2022-12-15T11:16:31.650Z"
   },
   {
    "duration": 15,
    "start_time": "2022-12-15T11:16:32.297Z"
   },
   {
    "duration": 15,
    "start_time": "2022-12-15T11:16:32.949Z"
   },
   {
    "duration": 4,
    "start_time": "2022-12-15T11:16:36.092Z"
   },
   {
    "duration": 5,
    "start_time": "2022-12-15T11:16:36.802Z"
   },
   {
    "duration": 5,
    "start_time": "2022-12-15T11:16:37.422Z"
   },
   {
    "duration": 109,
    "start_time": "2022-12-15T11:16:38.610Z"
   },
   {
    "duration": 2840,
    "start_time": "2022-12-15T11:16:43.932Z"
   },
   {
    "duration": 38,
    "start_time": "2022-12-15T11:16:53.041Z"
   },
   {
    "duration": 71,
    "start_time": "2022-12-15T11:16:56.698Z"
   },
   {
    "duration": 6,
    "start_time": "2022-12-15T11:17:00.470Z"
   },
   {
    "duration": 4,
    "start_time": "2022-12-15T11:23:41.037Z"
   },
   {
    "duration": 29,
    "start_time": "2022-12-15T11:23:43.696Z"
   },
   {
    "duration": 13,
    "start_time": "2022-12-15T11:23:44.868Z"
   },
   {
    "duration": 12,
    "start_time": "2022-12-15T11:23:45.696Z"
   },
   {
    "duration": 1420,
    "start_time": "2022-12-15T11:23:48.511Z"
   },
   {
    "duration": 24,
    "start_time": "2022-12-15T11:24:01.178Z"
   },
   {
    "duration": 12,
    "start_time": "2022-12-15T11:24:01.976Z"
   },
   {
    "duration": 7,
    "start_time": "2022-12-15T11:24:11.263Z"
   },
   {
    "duration": 1227,
    "start_time": "2022-12-15T11:24:13.691Z"
   },
   {
    "duration": 13,
    "start_time": "2022-12-15T11:24:14.920Z"
   },
   {
    "duration": 7,
    "start_time": "2022-12-15T11:24:27.041Z"
   },
   {
    "duration": 7,
    "start_time": "2022-12-15T11:24:27.781Z"
   },
   {
    "duration": 12,
    "start_time": "2022-12-15T11:24:28.860Z"
   },
   {
    "duration": 13,
    "start_time": "2022-12-15T11:24:29.540Z"
   },
   {
    "duration": 15,
    "start_time": "2022-12-15T11:24:30.256Z"
   },
   {
    "duration": 6,
    "start_time": "2022-12-15T11:24:34.205Z"
   },
   {
    "duration": 4,
    "start_time": "2022-12-15T11:24:34.993Z"
   },
   {
    "duration": 4,
    "start_time": "2022-12-15T11:24:35.730Z"
   },
   {
    "duration": 109,
    "start_time": "2022-12-15T11:26:15.436Z"
   },
   {
    "duration": 2831,
    "start_time": "2022-12-15T11:27:31.679Z"
   },
   {
    "duration": 2834,
    "start_time": "2022-12-15T11:27:52.876Z"
   },
   {
    "duration": 116,
    "start_time": "2022-12-15T11:28:27.721Z"
   },
   {
    "duration": 2849,
    "start_time": "2022-12-15T11:28:50.936Z"
   },
   {
    "duration": 3,
    "start_time": "2022-12-15T11:29:50.704Z"
   },
   {
    "duration": 29,
    "start_time": "2022-12-15T11:29:51.027Z"
   },
   {
    "duration": 11,
    "start_time": "2022-12-15T11:29:51.175Z"
   },
   {
    "duration": 13,
    "start_time": "2022-12-15T11:29:51.340Z"
   },
   {
    "duration": 1575,
    "start_time": "2022-12-15T11:29:51.892Z"
   },
   {
    "duration": 23,
    "start_time": "2022-12-15T11:29:53.470Z"
   },
   {
    "duration": 24,
    "start_time": "2022-12-15T11:29:53.511Z"
   },
   {
    "duration": 36,
    "start_time": "2022-12-15T11:29:53.538Z"
   },
   {
    "duration": 1016,
    "start_time": "2022-12-15T11:29:53.576Z"
   },
   {
    "duration": 23,
    "start_time": "2022-12-15T11:29:54.594Z"
   },
   {
    "duration": 6,
    "start_time": "2022-12-15T11:29:55.163Z"
   },
   {
    "duration": 6,
    "start_time": "2022-12-15T11:29:55.366Z"
   },
   {
    "duration": 15,
    "start_time": "2022-12-15T11:29:55.559Z"
   },
   {
    "duration": 13,
    "start_time": "2022-12-15T11:29:55.751Z"
   },
   {
    "duration": 15,
    "start_time": "2022-12-15T11:29:55.966Z"
   },
   {
    "duration": 4,
    "start_time": "2022-12-15T11:29:58.347Z"
   },
   {
    "duration": 3,
    "start_time": "2022-12-15T11:29:58.762Z"
   },
   {
    "duration": 4,
    "start_time": "2022-12-15T11:29:59.202Z"
   },
   {
    "duration": 125,
    "start_time": "2022-12-15T11:30:00.119Z"
   },
   {
    "duration": 2909,
    "start_time": "2022-12-15T11:30:03.190Z"
   },
   {
    "duration": 37,
    "start_time": "2022-12-15T11:30:08.870Z"
   },
   {
    "duration": 64,
    "start_time": "2022-12-15T11:30:12.304Z"
   },
   {
    "duration": 6,
    "start_time": "2022-12-15T11:30:15.987Z"
   },
   {
    "duration": 108,
    "start_time": "2022-12-15T11:33:28.610Z"
   },
   {
    "duration": 110,
    "start_time": "2022-12-15T11:33:56.080Z"
   },
   {
    "duration": 2899,
    "start_time": "2022-12-15T11:34:24.178Z"
   },
   {
    "duration": 115,
    "start_time": "2022-12-15T11:36:44.218Z"
   },
   {
    "duration": 140,
    "start_time": "2022-12-15T11:37:06.570Z"
   },
   {
    "duration": 121,
    "start_time": "2022-12-15T11:37:26.979Z"
   },
   {
    "duration": 120,
    "start_time": "2022-12-15T11:37:34.592Z"
   },
   {
    "duration": 114,
    "start_time": "2022-12-15T11:42:51.722Z"
   },
   {
    "duration": 114,
    "start_time": "2022-12-15T11:44:10.330Z"
   },
   {
    "duration": 254,
    "start_time": "2022-12-15T11:44:28.000Z"
   },
   {
    "duration": 196,
    "start_time": "2022-12-15T11:44:46.992Z"
   },
   {
    "duration": 135,
    "start_time": "2022-12-15T11:44:48.081Z"
   },
   {
    "duration": 112,
    "start_time": "2022-12-15T11:46:33.894Z"
   },
   {
    "duration": 116,
    "start_time": "2022-12-15T11:46:56.245Z"
   },
   {
    "duration": 138,
    "start_time": "2022-12-15T11:48:10.097Z"
   },
   {
    "duration": 236,
    "start_time": "2022-12-15T11:48:22.113Z"
   },
   {
    "duration": 111,
    "start_time": "2022-12-15T11:48:32.256Z"
   },
   {
    "duration": 19,
    "start_time": "2022-12-15T11:50:10.120Z"
   },
   {
    "duration": 10,
    "start_time": "2022-12-15T11:50:28.656Z"
   },
   {
    "duration": 202,
    "start_time": "2022-12-15T11:50:44.281Z"
   },
   {
    "duration": 126,
    "start_time": "2022-12-15T11:50:45.009Z"
   },
   {
    "duration": 114,
    "start_time": "2022-12-15T11:51:03.470Z"
   },
   {
    "duration": 120,
    "start_time": "2022-12-15T11:51:08.505Z"
   },
   {
    "duration": 118,
    "start_time": "2022-12-15T11:51:13.670Z"
   },
   {
    "duration": 125,
    "start_time": "2022-12-15T11:52:12.539Z"
   },
   {
    "duration": 235,
    "start_time": "2022-12-15T11:52:35.194Z"
   },
   {
    "duration": 119,
    "start_time": "2022-12-15T11:54:11.265Z"
   },
   {
    "duration": 145,
    "start_time": "2022-12-15T11:55:30.379Z"
   },
   {
    "duration": 148,
    "start_time": "2022-12-15T11:57:05.269Z"
   },
   {
    "duration": 161,
    "start_time": "2022-12-15T12:00:45.644Z"
   },
   {
    "duration": 157,
    "start_time": "2022-12-15T12:00:50.977Z"
   },
   {
    "duration": 319,
    "start_time": "2022-12-15T12:01:07.402Z"
   },
   {
    "duration": 120,
    "start_time": "2022-12-15T12:02:32.328Z"
   },
   {
    "duration": 128,
    "start_time": "2022-12-15T12:02:54.768Z"
   },
   {
    "duration": 141,
    "start_time": "2022-12-15T12:03:40.137Z"
   },
   {
    "duration": 120,
    "start_time": "2022-12-15T12:03:55.553Z"
   },
   {
    "duration": 138,
    "start_time": "2022-12-15T12:04:17.463Z"
   },
   {
    "duration": 117,
    "start_time": "2022-12-15T12:05:10.534Z"
   },
   {
    "duration": 163,
    "start_time": "2022-12-15T12:05:22.381Z"
   },
   {
    "duration": 171,
    "start_time": "2022-12-15T12:05:37.128Z"
   },
   {
    "duration": 174,
    "start_time": "2022-12-15T12:05:52.901Z"
   },
   {
    "duration": 171,
    "start_time": "2022-12-15T12:07:47.506Z"
   },
   {
    "duration": 164,
    "start_time": "2022-12-15T12:08:53.941Z"
   },
   {
    "duration": 207,
    "start_time": "2022-12-15T12:09:26.929Z"
   },
   {
    "duration": 150,
    "start_time": "2022-12-15T12:09:40.701Z"
   },
   {
    "duration": 131,
    "start_time": "2022-12-15T12:09:45.693Z"
   },
   {
    "duration": 155,
    "start_time": "2022-12-15T12:09:51.315Z"
   },
   {
    "duration": 162,
    "start_time": "2022-12-15T12:10:01.866Z"
   },
   {
    "duration": 287,
    "start_time": "2022-12-15T12:14:49.098Z"
   },
   {
    "duration": 239,
    "start_time": "2022-12-15T12:15:11.833Z"
   },
   {
    "duration": 339,
    "start_time": "2022-12-15T12:15:22.890Z"
   },
   {
    "duration": 190,
    "start_time": "2022-12-15T12:15:35.075Z"
   },
   {
    "duration": 195,
    "start_time": "2022-12-15T12:15:44.629Z"
   },
   {
    "duration": 193,
    "start_time": "2022-12-15T12:15:55.545Z"
   },
   {
    "duration": 182,
    "start_time": "2022-12-15T12:16:04.840Z"
   },
   {
    "duration": 4,
    "start_time": "2022-12-15T12:18:52.677Z"
   },
   {
    "duration": 23301,
    "start_time": "2022-12-15T12:20:10.876Z"
   },
   {
    "duration": 19,
    "start_time": "2022-12-15T12:20:51.730Z"
   },
   {
    "duration": 298,
    "start_time": "2022-12-15T12:20:59.185Z"
   },
   {
    "duration": 242,
    "start_time": "2022-12-15T12:25:36.239Z"
   },
   {
    "duration": 185,
    "start_time": "2022-12-15T12:25:38.807Z"
   },
   {
    "duration": 507,
    "start_time": "2022-12-15T12:30:43.598Z"
   },
   {
    "duration": 525,
    "start_time": "2022-12-15T12:31:30.671Z"
   },
   {
    "duration": 526,
    "start_time": "2022-12-15T12:34:04.687Z"
   },
   {
    "duration": 2882,
    "start_time": "2022-12-15T12:52:29.604Z"
   },
   {
    "duration": 210,
    "start_time": "2022-12-15T12:53:04.011Z"
   },
   {
    "duration": 198,
    "start_time": "2022-12-15T12:56:35.323Z"
   },
   {
    "duration": 553,
    "start_time": "2022-12-15T12:56:41.667Z"
   },
   {
    "duration": 18,
    "start_time": "2022-12-15T13:04:50.299Z"
   },
   {
    "duration": 4,
    "start_time": "2022-12-15T13:04:59.782Z"
   },
   {
    "duration": 31,
    "start_time": "2022-12-15T13:05:00.446Z"
   },
   {
    "duration": 12,
    "start_time": "2022-12-15T13:05:00.961Z"
   },
   {
    "duration": 12,
    "start_time": "2022-12-15T13:05:01.310Z"
   },
   {
    "duration": 1648,
    "start_time": "2022-12-15T13:05:02.348Z"
   },
   {
    "duration": 29,
    "start_time": "2022-12-15T13:05:03.998Z"
   },
   {
    "duration": 13,
    "start_time": "2022-12-15T13:05:04.028Z"
   },
   {
    "duration": 28,
    "start_time": "2022-12-15T13:05:04.043Z"
   },
   {
    "duration": 1209,
    "start_time": "2022-12-15T13:05:05.112Z"
   },
   {
    "duration": 12,
    "start_time": "2022-12-15T13:05:06.323Z"
   },
   {
    "duration": 7,
    "start_time": "2022-12-15T13:05:09.032Z"
   },
   {
    "duration": 8,
    "start_time": "2022-12-15T13:05:09.547Z"
   },
   {
    "duration": 14,
    "start_time": "2022-12-15T13:05:10.053Z"
   },
   {
    "duration": 14,
    "start_time": "2022-12-15T13:05:10.558Z"
   },
   {
    "duration": 15,
    "start_time": "2022-12-15T13:05:11.036Z"
   },
   {
    "duration": 4,
    "start_time": "2022-12-15T13:05:14.393Z"
   },
   {
    "duration": 4,
    "start_time": "2022-12-15T13:05:14.898Z"
   },
   {
    "duration": 4,
    "start_time": "2022-12-15T13:05:15.404Z"
   },
   {
    "duration": 239,
    "start_time": "2022-12-15T13:05:16.421Z"
   },
   {
    "duration": 194,
    "start_time": "2022-12-15T13:05:18.144Z"
   },
   {
    "duration": 19,
    "start_time": "2022-12-15T13:05:20.194Z"
   },
   {
    "duration": 525,
    "start_time": "2022-12-15T13:05:31.038Z"
   },
   {
    "duration": 15,
    "start_time": "2022-12-15T13:13:37.381Z"
   },
   {
    "duration": 4,
    "start_time": "2022-12-15T13:13:51.940Z"
   },
   {
    "duration": 57620,
    "start_time": "2022-12-15T13:14:05.024Z"
   },
   {
    "duration": 15383,
    "start_time": "2022-12-15T13:15:09.788Z"
   },
   {
    "duration": 23889,
    "start_time": "2022-12-15T13:16:13.329Z"
   },
   {
    "duration": 23794,
    "start_time": "2022-12-15T13:17:14.736Z"
   },
   {
    "duration": 23645,
    "start_time": "2022-12-15T13:18:57.430Z"
   },
   {
    "duration": 17306,
    "start_time": "2022-12-15T13:19:33.112Z"
   },
   {
    "duration": 17402,
    "start_time": "2022-12-15T13:21:32.698Z"
   },
   {
    "duration": 16835,
    "start_time": "2022-12-15T13:22:18.222Z"
   },
   {
    "duration": 16953,
    "start_time": "2022-12-15T13:23:12.196Z"
   },
   {
    "duration": 16510,
    "start_time": "2022-12-15T13:23:37.559Z"
   },
   {
    "duration": 16651,
    "start_time": "2022-12-15T13:24:01.680Z"
   },
   {
    "duration": 16949,
    "start_time": "2022-12-15T13:24:54.194Z"
   },
   {
    "duration": 50,
    "start_time": "2022-12-15T13:27:17.682Z"
   },
   {
    "duration": 17044,
    "start_time": "2022-12-15T13:28:12.209Z"
   },
   {
    "duration": 6,
    "start_time": "2022-12-15T13:29:53.350Z"
   },
   {
    "duration": 6,
    "start_time": "2022-12-15T13:30:01.709Z"
   },
   {
    "duration": 17355,
    "start_time": "2022-12-15T13:30:10.651Z"
   },
   {
    "duration": 17446,
    "start_time": "2022-12-15T13:31:22.374Z"
   },
   {
    "duration": 17414,
    "start_time": "2022-12-15T13:32:04.194Z"
   },
   {
    "duration": 17305,
    "start_time": "2022-12-15T13:32:33.456Z"
   },
   {
    "duration": 16466,
    "start_time": "2022-12-15T13:43:17.227Z"
   },
   {
    "duration": 16861,
    "start_time": "2022-12-15T13:44:57.219Z"
   },
   {
    "duration": 12827,
    "start_time": "2022-12-15T13:46:06.886Z"
   },
   {
    "duration": 13292,
    "start_time": "2022-12-15T13:46:31.624Z"
   },
   {
    "duration": 5,
    "start_time": "2022-12-15T14:31:02.570Z"
   },
   {
    "duration": 73,
    "start_time": "2022-12-15T14:31:17.678Z"
   },
   {
    "duration": 75,
    "start_time": "2022-12-15T14:31:57.250Z"
   },
   {
    "duration": 3,
    "start_time": "2022-12-15T14:32:33.851Z"
   },
   {
    "duration": 29,
    "start_time": "2022-12-15T14:32:34.213Z"
   },
   {
    "duration": 12,
    "start_time": "2022-12-15T14:32:34.396Z"
   },
   {
    "duration": 12,
    "start_time": "2022-12-15T14:32:34.580Z"
   },
   {
    "duration": 1798,
    "start_time": "2022-12-15T14:32:35.143Z"
   },
   {
    "duration": 22,
    "start_time": "2022-12-15T14:32:36.943Z"
   },
   {
    "duration": 14,
    "start_time": "2022-12-15T14:32:36.966Z"
   },
   {
    "duration": 8,
    "start_time": "2022-12-15T14:32:36.982Z"
   },
   {
    "duration": 1025,
    "start_time": "2022-12-15T14:32:37.446Z"
   },
   {
    "duration": 12,
    "start_time": "2022-12-15T14:32:38.473Z"
   },
   {
    "duration": 7,
    "start_time": "2022-12-15T14:32:40.235Z"
   },
   {
    "duration": 6,
    "start_time": "2022-12-15T14:32:40.820Z"
   },
   {
    "duration": 14,
    "start_time": "2022-12-15T14:32:41.421Z"
   },
   {
    "duration": 16,
    "start_time": "2022-12-15T14:32:41.911Z"
   },
   {
    "duration": 14,
    "start_time": "2022-12-15T14:32:42.371Z"
   },
   {
    "duration": 5,
    "start_time": "2022-12-15T14:32:44.988Z"
   },
   {
    "duration": 4,
    "start_time": "2022-12-15T14:32:45.492Z"
   },
   {
    "duration": 4,
    "start_time": "2022-12-15T14:32:45.694Z"
   },
   {
    "duration": 208,
    "start_time": "2022-12-15T14:32:46.096Z"
   },
   {
    "duration": 238,
    "start_time": "2022-12-15T14:32:46.539Z"
   },
   {
    "duration": 674,
    "start_time": "2022-12-15T14:32:46.977Z"
   },
   {
    "duration": 2900,
    "start_time": "2022-12-15T14:32:48.980Z"
   },
   {
    "duration": 13354,
    "start_time": "2022-12-15T14:32:51.882Z"
   },
   {
    "duration": 38,
    "start_time": "2022-12-15T14:33:05.238Z"
   },
   {
    "duration": 84,
    "start_time": "2022-12-15T14:33:05.278Z"
   },
   {
    "duration": 56,
    "start_time": "2022-12-15T14:33:05.364Z"
   },
   {
    "duration": 6,
    "start_time": "2022-12-15T14:33:22.967Z"
   },
   {
    "duration": 70,
    "start_time": "2022-12-15T14:33:24.443Z"
   },
   {
    "duration": 11,
    "start_time": "2022-12-15T14:34:30.372Z"
   },
   {
    "duration": 4,
    "start_time": "2022-12-15T14:34:36.357Z"
   },
   {
    "duration": 81,
    "start_time": "2022-12-15T14:34:37.067Z"
   },
   {
    "duration": 1545,
    "start_time": "2022-12-15T20:00:54.961Z"
   },
   {
    "duration": 126,
    "start_time": "2022-12-15T20:00:56.508Z"
   },
   {
    "duration": 13,
    "start_time": "2022-12-15T20:00:56.636Z"
   },
   {
    "duration": 23,
    "start_time": "2022-12-15T20:00:56.650Z"
   },
   {
    "duration": 1533,
    "start_time": "2022-12-15T20:00:56.846Z"
   },
   {
    "duration": 25,
    "start_time": "2022-12-15T20:00:58.382Z"
   },
   {
    "duration": 26,
    "start_time": "2022-12-15T20:00:58.409Z"
   },
   {
    "duration": 10,
    "start_time": "2022-12-15T20:00:58.438Z"
   },
   {
    "duration": 1067,
    "start_time": "2022-12-15T20:00:58.450Z"
   },
   {
    "duration": 14,
    "start_time": "2022-12-15T20:00:59.519Z"
   },
   {
    "duration": 7,
    "start_time": "2022-12-15T20:01:00.874Z"
   },
   {
    "duration": 6,
    "start_time": "2022-12-15T20:01:01.269Z"
   },
   {
    "duration": 13,
    "start_time": "2022-12-15T20:01:01.931Z"
   },
   {
    "duration": 13,
    "start_time": "2022-12-15T20:01:03.093Z"
   },
   {
    "duration": 15,
    "start_time": "2022-12-15T20:01:05.076Z"
   },
   {
    "duration": 4,
    "start_time": "2022-12-15T20:01:09.139Z"
   },
   {
    "duration": 4,
    "start_time": "2022-12-15T20:01:09.913Z"
   },
   {
    "duration": 4,
    "start_time": "2022-12-15T20:01:11.585Z"
   },
   {
    "duration": 170,
    "start_time": "2022-12-15T20:03:29.569Z"
   },
   {
    "duration": 68,
    "start_time": "2022-12-15T20:03:45.770Z"
   },
   {
    "duration": 60,
    "start_time": "2022-12-15T20:03:54.156Z"
   },
   {
    "duration": 3,
    "start_time": "2022-12-15T20:04:08.371Z"
   },
   {
    "duration": 29,
    "start_time": "2022-12-15T20:04:08.713Z"
   },
   {
    "duration": 10,
    "start_time": "2022-12-15T20:04:08.893Z"
   },
   {
    "duration": 12,
    "start_time": "2022-12-15T20:04:09.064Z"
   },
   {
    "duration": 1579,
    "start_time": "2022-12-15T20:04:09.563Z"
   },
   {
    "duration": 21,
    "start_time": "2022-12-15T20:04:11.144Z"
   },
   {
    "duration": 48,
    "start_time": "2022-12-15T20:04:11.167Z"
   },
   {
    "duration": 27,
    "start_time": "2022-12-15T20:04:11.217Z"
   },
   {
    "duration": 1167,
    "start_time": "2022-12-15T20:04:11.668Z"
   },
   {
    "duration": 11,
    "start_time": "2022-12-15T20:04:12.837Z"
   },
   {
    "duration": 6,
    "start_time": "2022-12-15T20:04:16.690Z"
   },
   {
    "duration": 6,
    "start_time": "2022-12-15T20:04:17.676Z"
   },
   {
    "duration": 14,
    "start_time": "2022-12-15T20:04:18.053Z"
   },
   {
    "duration": 12,
    "start_time": "2022-12-15T20:04:18.700Z"
   },
   {
    "duration": 14,
    "start_time": "2022-12-15T20:04:19.606Z"
   },
   {
    "duration": 4,
    "start_time": "2022-12-15T20:04:21.207Z"
   },
   {
    "duration": 6,
    "start_time": "2022-12-15T20:04:21.699Z"
   },
   {
    "duration": 4,
    "start_time": "2022-12-15T20:04:21.863Z"
   },
   {
    "duration": 75,
    "start_time": "2022-12-15T20:04:22.214Z"
   },
   {
    "duration": 61,
    "start_time": "2022-12-15T20:04:56.689Z"
   },
   {
    "duration": 236,
    "start_time": "2022-12-15T20:05:06.146Z"
   },
   {
    "duration": 206,
    "start_time": "2022-12-15T20:05:13.940Z"
   },
   {
    "duration": 224,
    "start_time": "2022-12-15T20:07:41.144Z"
   },
   {
    "duration": 210,
    "start_time": "2022-12-15T20:08:10.703Z"
   },
   {
    "duration": 264,
    "start_time": "2022-12-15T20:08:32.365Z"
   },
   {
    "duration": 243,
    "start_time": "2022-12-15T20:09:22.281Z"
   },
   {
    "duration": 5,
    "start_time": "2022-12-15T20:10:42.432Z"
   },
   {
    "duration": 250,
    "start_time": "2022-12-15T20:12:41.520Z"
   },
   {
    "duration": 237,
    "start_time": "2022-12-15T20:12:56.006Z"
   },
   {
    "duration": 234,
    "start_time": "2022-12-15T20:13:03.099Z"
   },
   {
    "duration": 233,
    "start_time": "2022-12-15T20:13:11.443Z"
   },
   {
    "duration": 246,
    "start_time": "2022-12-15T20:13:18.039Z"
   },
   {
    "duration": 287,
    "start_time": "2022-12-15T20:16:42.363Z"
   },
   {
    "duration": 75,
    "start_time": "2022-12-15T20:19:49.022Z"
   },
   {
    "duration": 65,
    "start_time": "2022-12-15T20:21:37.139Z"
   },
   {
    "duration": 81,
    "start_time": "2022-12-15T20:22:06.695Z"
   },
   {
    "duration": 3059,
    "start_time": "2022-12-15T20:22:59.990Z"
   },
   {
    "duration": 3507,
    "start_time": "2022-12-15T20:23:47.985Z"
   },
   {
    "duration": 1488,
    "start_time": "2022-12-16T09:47:50.816Z"
   },
   {
    "duration": 75,
    "start_time": "2022-12-16T09:47:52.305Z"
   },
   {
    "duration": 11,
    "start_time": "2022-12-16T09:47:52.382Z"
   },
   {
    "duration": 40,
    "start_time": "2022-12-16T09:47:52.395Z"
   },
   {
    "duration": 1506,
    "start_time": "2022-12-16T09:47:52.437Z"
   },
   {
    "duration": 21,
    "start_time": "2022-12-16T09:47:53.945Z"
   },
   {
    "duration": 48,
    "start_time": "2022-12-16T09:47:53.967Z"
   },
   {
    "duration": 31,
    "start_time": "2022-12-16T09:47:54.017Z"
   },
   {
    "duration": 1063,
    "start_time": "2022-12-16T09:47:54.050Z"
   },
   {
    "duration": 11,
    "start_time": "2022-12-16T09:47:55.115Z"
   },
   {
    "duration": 36,
    "start_time": "2022-12-16T09:47:55.128Z"
   },
   {
    "duration": 41,
    "start_time": "2022-12-16T09:47:55.165Z"
   },
   {
    "duration": 13,
    "start_time": "2022-12-16T09:47:55.273Z"
   },
   {
    "duration": 15,
    "start_time": "2022-12-16T09:47:55.508Z"
   },
   {
    "duration": 14,
    "start_time": "2022-12-16T09:47:55.728Z"
   },
   {
    "duration": 4,
    "start_time": "2022-12-16T09:47:58.444Z"
   },
   {
    "duration": 4,
    "start_time": "2022-12-16T09:47:58.873Z"
   },
   {
    "duration": 3,
    "start_time": "2022-12-16T09:47:59.336Z"
   },
   {
    "duration": 118,
    "start_time": "2022-12-16T09:48:00.175Z"
   },
   {
    "duration": 4,
    "start_time": "2022-12-16T09:48:18.131Z"
   },
   {
    "duration": 231,
    "start_time": "2022-12-16T09:48:28.097Z"
   },
   {
    "duration": 4,
    "start_time": "2022-12-16T09:52:55.741Z"
   },
   {
    "duration": 114,
    "start_time": "2022-12-16T09:54:04.134Z"
   },
   {
    "duration": 3351,
    "start_time": "2022-12-16T09:55:20.040Z"
   },
   {
    "duration": 3394,
    "start_time": "2022-12-16T09:55:43.384Z"
   },
   {
    "duration": 3332,
    "start_time": "2022-12-16T09:56:19.786Z"
   },
   {
    "duration": 251,
    "start_time": "2022-12-16T09:59:48.392Z"
   },
   {
    "duration": 3862,
    "start_time": "2022-12-16T10:03:49.530Z"
   },
   {
    "duration": 3664,
    "start_time": "2022-12-16T10:08:00.874Z"
   },
   {
    "duration": 1523,
    "start_time": "2022-12-17T14:13:53.031Z"
   },
   {
    "duration": 73,
    "start_time": "2022-12-17T14:13:54.556Z"
   },
   {
    "duration": 13,
    "start_time": "2022-12-17T14:13:54.630Z"
   },
   {
    "duration": 19,
    "start_time": "2022-12-17T14:13:54.645Z"
   },
   {
    "duration": 1441,
    "start_time": "2022-12-17T14:13:56.118Z"
   },
   {
    "duration": 23,
    "start_time": "2022-12-17T14:13:57.562Z"
   },
   {
    "duration": 11,
    "start_time": "2022-12-17T14:13:58.613Z"
   },
   {
    "duration": 6,
    "start_time": "2022-12-17T14:13:59.832Z"
   },
   {
    "duration": 980,
    "start_time": "2022-12-17T14:14:01.568Z"
   },
   {
    "duration": 14,
    "start_time": "2022-12-17T14:14:02.551Z"
   },
   {
    "duration": 7,
    "start_time": "2022-12-17T14:14:06.280Z"
   },
   {
    "duration": 7,
    "start_time": "2022-12-17T14:14:06.894Z"
   },
   {
    "duration": 17,
    "start_time": "2022-12-17T14:14:07.558Z"
   },
   {
    "duration": 13,
    "start_time": "2022-12-17T14:14:08.301Z"
   },
   {
    "duration": 14,
    "start_time": "2022-12-17T14:14:08.910Z"
   },
   {
    "duration": 3,
    "start_time": "2022-12-17T14:14:12.015Z"
   },
   {
    "duration": 4,
    "start_time": "2022-12-17T14:14:12.634Z"
   },
   {
    "duration": 4,
    "start_time": "2022-12-17T14:14:13.204Z"
   },
   {
    "duration": 268,
    "start_time": "2022-12-17T14:14:14.469Z"
   },
   {
    "duration": 257,
    "start_time": "2022-12-17T14:15:56.617Z"
   },
   {
    "duration": 40,
    "start_time": "2022-12-17T14:18:21.939Z"
   }
  ],
  "kernelspec": {
   "display_name": "Python 3 (ipykernel)",
   "language": "python",
   "name": "python3"
  },
  "language_info": {
   "codemirror_mode": {
    "name": "ipython",
    "version": 3
   },
   "file_extension": ".py",
   "mimetype": "text/x-python",
   "name": "python",
   "nbconvert_exporter": "python",
   "pygments_lexer": "ipython3",
   "version": "3.9.12"
  },
  "toc": {
   "base_numbering": 1,
   "nav_menu": {},
   "number_sections": true,
   "sideBar": true,
   "skip_h1_title": true,
   "title_cell": "Table of Contents",
   "title_sidebar": "Contents",
   "toc_cell": false,
   "toc_position": {},
   "toc_section_display": true,
   "toc_window_display": false
  }
 },
 "nbformat": 4,
 "nbformat_minor": 2
}
